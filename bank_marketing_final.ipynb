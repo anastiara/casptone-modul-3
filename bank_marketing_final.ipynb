{
  "cells": [
    {
      "cell_type": "markdown",
      "metadata": {
        "id": "HVGT0iEOwosm"
      },
      "source": [
        "# CAPSTONE MODUL 3 : BANK MARKETING CAMPAIGN\n",
        "created by Anastiara Adina Restu - JCDS 1702 002\n",
        "\n",
        "\n",
        "## Problem Statement\n",
        "Marketing campaign is a strategy to enhance business. One of the approach to sell the products/services is by telemarketing. Telemarketing is a marketing approach operationalized through a contact center. Representatives from the contact center will contact the customers by phone offer the products. The cost of telemarketing is variative, based on per hour or per lead. This approach is commonly done by banking service companies to offer their products, for example long-term deposit. To determine whether a campaign is successful or not is based on how many customers decide to subscribe the long-term deposit. \n",
        "\n",
        "However, if we talk about the cost of the telemarketing, sometimes it can be costly if the marketing team just call all the customers without knowing that they might be not interested to subscribe to the long-term deposit also waste time as well. Besides, this strategy makes the customers uncomfortable, especially the ones who don't want to subscribe to our product. To overcome with the campaign cost waste and customers' complaint, it is needed a prediction on how many customers are more likely to subscribe the deposit so we can calculate the campaign cost from the prediction.\n",
        "\n",
        "## Objectives\n",
        "To achieve the effiency of the telemarketing cost, we need to predict deposit subscription on our customers based on the available data. From the prediction, we can calculate the telemarketing cost before we do prediction and after the prediction.\n",
        "\n",
        "## Dataset\n",
        "The dataset is obtained from [this dataset](https://drive.google.com/file/d/1PQTTWgITANg5Av-1Ot28KCIHVyFaCmUK/view) about direct marketing campaigns of a Portuguese banking institution and based from [[1]](https://www.kaggle.com/datasets/janiobachmann/bank-marketing-dataset). In further analysis and modeling, the currency of this dataset will be explained in EUR.\n",
        "\n",
        "## Analytic Approach\n",
        "### Modeling\n",
        "Before we do our modeling, we need to do data cleaning followed by EDA (explanatory data analysis) on our data to get insights about our customers details. Then, we split our data with train set 80% and test set 20%. Next, we will train and test our data with some machine model learning such as Decision Tree, Logistic Regression, KNN, Random Forest, AdaBoost, Gradient Boost, and XGB. After getting the top 3 best performance score from the benchmark models, we do hyperparameter tuning for each model to improve the model performance. Last, we then train and test our model alongside with the cost prediction to see what model predicts the most efficient marketing cost.\n",
        "\n",
        "### Marketing Cost Calculation\n",
        "To be able understand our prediction, we can use confusion matrix to explain the customers' category\n",
        "\n",
        "![](2022-08-08-20-25-29.png)\n",
        "\n",
        "TARGET :\n",
        "- Positive class : 'yes' for subscribe deposit\n",
        "- Negative class : 'no' for not subscribe deposit\n",
        "\n",
        "Confusion Matrix term\n",
        "- TP: number of customers who are **PREDICTED SUBSCRIBED** deposit are **ACTUALLY SUBSCRIBED**\n",
        "- TN: number of customers who are **PREDICTED NOT SUBSCRIBED** deposit are **ACTUALLY NOT SUBSCRIBED**\n",
        "- FP: number of customers who are **PREDICTED SUBSCRIBED** deposit is **ACTUALLY NOT SUBSCRIBED**\n",
        "- FN: number of customers who are **PREDICTED NOT SUBSCRIBED** deposit is **ACTUALLY SUBSCRIBED**\n",
        "\n",
        "\n",
        "In this case, the marketing team knows that [[2]](https://github.com/goncaloggomes/cost-prediction/blob/master/ML_fullproject_bankmktcampaign.ipynb):\n",
        "- For each customer predicted subscribed to our deposit but actually they don't subscribe, the bank will cost 2000 EUR\n",
        "- For each customer predicted not subscribed to our deposit but actually they subscribe, the bank will cost 500 EUR\n",
        "\n",
        "Both cases have the consquence of wasting money and our goal will not be achieved. However, the consequences of False Positive will costly more. So, we will calculate those cases based on our prediction through confusion matrix from each model and try to reduce the FP numbers as low as possible in order to make the marketing cost more efficient (cheaper).\n",
        "\n",
        "## Metrics Evaluation\n",
        "\n",
        "There are two metrics in this case\n",
        "\n",
        "1. ROC-AUC score: used to determine whether a model is good or not to distinguish positive class and negative class\n",
        "2. Cost Reduction: used to determine a model is able to make the efficient cost. The higher cost reduction, the better performance model to make the efficient cost.\n",
        "\n",
        "## Feature Description\n",
        "\n",
        "**Bank client data:**\n",
        "\n",
        "1. age: (numeric)\n",
        "2. job: type of job (categorical: 'admin.','blue-collar','entrepreneur','housemaid','management','retired','self-employed','services','student','technician','unemployed','unknown')\n",
        "3. housing: has housing loan? (categorical: 'no','yes','unknown')\n",
        "4. loan: has personal loan? (categorical: 'no','yes','unknown')\n",
        "5. balance: Balance of the individual.\n",
        "\n",
        "**Related with the last contact of the current campaign:**\n",
        "\n",
        "6. contact: contact communication type (categorical: 'cellular','telephone','unknown')\n",
        "7. month: last contact month of year (categorical: 'jan', 'feb', 'mar', ..., 'nov', 'dec')\n",
        "\n",
        "**Other attributes:**\n",
        "\n",
        "8. campaign: number of contacts performed during this campaign and for this client (numeric, includes last contact)\n",
        "9. pdays: number of days that passed by after the client was last contacted from a previous campaign (numeric; -1 means client was not previously contacted))\n",
        "10. poutcome: outcome of the previous marketing campaign (categorical: 'failure','nonexistent','success')\n",
        "\n",
        "**Output variable (desired target):**\n",
        "\n",
        "11. deposit : as the client subscribed a term deposit? (binary: 'yes','no')\n",
        "\n"
      ]
    },
    {
      "cell_type": "markdown",
      "metadata": {},
      "source": [
        "## Libraries"
      ]
    },
    {
      "cell_type": "code",
      "execution_count": 51,
      "metadata": {
        "id": "b-LF-8oInTxW"
      },
      "outputs": [],
      "source": [
        "# Analytic and visualisation libraries\n",
        "import pandas as pd\n",
        "import numpy as np\n",
        "import seaborn as sns\n",
        "import matplotlib.pyplot as plt\n",
        "\n",
        "# Data Preprocessing and cross validation libraries\n",
        "from sklearn.model_selection import train_test_split, cross_val_score, StratifiedKFold, cross_validate\n",
        "from sklearn.preprocessing import OneHotEncoder, StandardScaler, RobustScaler, MinMaxScaler\n",
        "from category_encoders import OrdinalEncoder,BinaryEncoder\n",
        "from sklearn.compose import ColumnTransformer\n",
        "from sklearn.pipeline import Pipeline\n",
        "\n",
        "# Modeling and metrics libraries\n",
        "from sklearn.tree import DecisionTreeClassifier\n",
        "from sklearn.linear_model import LogisticRegression\n",
        "from sklearn.neighbors import KNeighborsClassifier\n",
        "from sklearn.ensemble import RandomForestClassifier, GradientBoostingClassifier,AdaBoostClassifier\n",
        "from sklearn.model_selection import RandomizedSearchCV\n",
        "from xgboost import XGBClassifier\n",
        "from sklearn.metrics import confusion_matrix,roc_auc_score,classification_report,roc_curve,accuracy_score,precision_score\n",
        "\n",
        "# Other\n",
        "import warnings\n",
        "warnings.filterwarnings(\"ignore\")\n"
      ]
    },
    {
      "cell_type": "markdown",
      "metadata": {
        "id": "5Ybaakbgwost"
      },
      "source": [
        "## DATA CHECKING \n",
        "\n",
        "In this section, we well get to know our dataset so we can identify things that should be considered for the next analysis."
      ]
    },
    {
      "cell_type": "code",
      "execution_count": 2,
      "metadata": {
        "colab": {
          "base_uri": "https://localhost:8080/",
          "height": 352
        },
        "id": "Y52bZxZdnTxa",
        "outputId": "2dd61cce-7145-48b4-a982-ae112a7800c4"
      },
      "outputs": [
        {
          "data": {
            "text/html": [
              "<div>\n",
              "<style scoped>\n",
              "    .dataframe tbody tr th:only-of-type {\n",
              "        vertical-align: middle;\n",
              "    }\n",
              "\n",
              "    .dataframe tbody tr th {\n",
              "        vertical-align: top;\n",
              "    }\n",
              "\n",
              "    .dataframe thead th {\n",
              "        text-align: right;\n",
              "    }\n",
              "</style>\n",
              "<table border=\"1\" class=\"dataframe\">\n",
              "  <thead>\n",
              "    <tr style=\"text-align: right;\">\n",
              "      <th></th>\n",
              "      <th>age</th>\n",
              "      <th>job</th>\n",
              "      <th>balance</th>\n",
              "      <th>housing</th>\n",
              "      <th>loan</th>\n",
              "      <th>contact</th>\n",
              "      <th>month</th>\n",
              "      <th>campaign</th>\n",
              "      <th>pdays</th>\n",
              "      <th>poutcome</th>\n",
              "      <th>deposit</th>\n",
              "    </tr>\n",
              "  </thead>\n",
              "  <tbody>\n",
              "    <tr>\n",
              "      <th>0</th>\n",
              "      <td>55</td>\n",
              "      <td>admin.</td>\n",
              "      <td>1662</td>\n",
              "      <td>no</td>\n",
              "      <td>no</td>\n",
              "      <td>cellular</td>\n",
              "      <td>jun</td>\n",
              "      <td>2</td>\n",
              "      <td>-1</td>\n",
              "      <td>unknown</td>\n",
              "      <td>yes</td>\n",
              "    </tr>\n",
              "    <tr>\n",
              "      <th>1</th>\n",
              "      <td>39</td>\n",
              "      <td>self-employed</td>\n",
              "      <td>-3058</td>\n",
              "      <td>yes</td>\n",
              "      <td>yes</td>\n",
              "      <td>cellular</td>\n",
              "      <td>apr</td>\n",
              "      <td>3</td>\n",
              "      <td>-1</td>\n",
              "      <td>unknown</td>\n",
              "      <td>yes</td>\n",
              "    </tr>\n",
              "    <tr>\n",
              "      <th>2</th>\n",
              "      <td>51</td>\n",
              "      <td>admin.</td>\n",
              "      <td>3025</td>\n",
              "      <td>no</td>\n",
              "      <td>no</td>\n",
              "      <td>cellular</td>\n",
              "      <td>may</td>\n",
              "      <td>1</td>\n",
              "      <td>352</td>\n",
              "      <td>other</td>\n",
              "      <td>yes</td>\n",
              "    </tr>\n",
              "    <tr>\n",
              "      <th>3</th>\n",
              "      <td>38</td>\n",
              "      <td>services</td>\n",
              "      <td>-87</td>\n",
              "      <td>yes</td>\n",
              "      <td>no</td>\n",
              "      <td>cellular</td>\n",
              "      <td>may</td>\n",
              "      <td>1</td>\n",
              "      <td>-1</td>\n",
              "      <td>unknown</td>\n",
              "      <td>no</td>\n",
              "    </tr>\n",
              "    <tr>\n",
              "      <th>4</th>\n",
              "      <td>36</td>\n",
              "      <td>housemaid</td>\n",
              "      <td>205</td>\n",
              "      <td>yes</td>\n",
              "      <td>no</td>\n",
              "      <td>telephone</td>\n",
              "      <td>nov</td>\n",
              "      <td>4</td>\n",
              "      <td>-1</td>\n",
              "      <td>unknown</td>\n",
              "      <td>no</td>\n",
              "    </tr>\n",
              "    <tr>\n",
              "      <th>...</th>\n",
              "      <td>...</td>\n",
              "      <td>...</td>\n",
              "      <td>...</td>\n",
              "      <td>...</td>\n",
              "      <td>...</td>\n",
              "      <td>...</td>\n",
              "      <td>...</td>\n",
              "      <td>...</td>\n",
              "      <td>...</td>\n",
              "      <td>...</td>\n",
              "      <td>...</td>\n",
              "    </tr>\n",
              "    <tr>\n",
              "      <th>7808</th>\n",
              "      <td>62</td>\n",
              "      <td>housemaid</td>\n",
              "      <td>2</td>\n",
              "      <td>no</td>\n",
              "      <td>no</td>\n",
              "      <td>cellular</td>\n",
              "      <td>nov</td>\n",
              "      <td>1</td>\n",
              "      <td>-1</td>\n",
              "      <td>unknown</td>\n",
              "      <td>yes</td>\n",
              "    </tr>\n",
              "    <tr>\n",
              "      <th>7809</th>\n",
              "      <td>48</td>\n",
              "      <td>housemaid</td>\n",
              "      <td>5473</td>\n",
              "      <td>no</td>\n",
              "      <td>no</td>\n",
              "      <td>cellular</td>\n",
              "      <td>feb</td>\n",
              "      <td>2</td>\n",
              "      <td>184</td>\n",
              "      <td>success</td>\n",
              "      <td>yes</td>\n",
              "    </tr>\n",
              "    <tr>\n",
              "      <th>7810</th>\n",
              "      <td>36</td>\n",
              "      <td>unknown</td>\n",
              "      <td>179</td>\n",
              "      <td>no</td>\n",
              "      <td>no</td>\n",
              "      <td>cellular</td>\n",
              "      <td>aug</td>\n",
              "      <td>8</td>\n",
              "      <td>-1</td>\n",
              "      <td>unknown</td>\n",
              "      <td>no</td>\n",
              "    </tr>\n",
              "    <tr>\n",
              "      <th>7811</th>\n",
              "      <td>31</td>\n",
              "      <td>admin.</td>\n",
              "      <td>54</td>\n",
              "      <td>yes</td>\n",
              "      <td>no</td>\n",
              "      <td>cellular</td>\n",
              "      <td>nov</td>\n",
              "      <td>1</td>\n",
              "      <td>-1</td>\n",
              "      <td>unknown</td>\n",
              "      <td>no</td>\n",
              "    </tr>\n",
              "    <tr>\n",
              "      <th>7812</th>\n",
              "      <td>60</td>\n",
              "      <td>retired</td>\n",
              "      <td>1588</td>\n",
              "      <td>no</td>\n",
              "      <td>no</td>\n",
              "      <td>cellular</td>\n",
              "      <td>oct</td>\n",
              "      <td>1</td>\n",
              "      <td>-1</td>\n",
              "      <td>unknown</td>\n",
              "      <td>yes</td>\n",
              "    </tr>\n",
              "  </tbody>\n",
              "</table>\n",
              "<p>7813 rows × 11 columns</p>\n",
              "</div>"
            ],
            "text/plain": [
              "      age            job  balance housing loan    contact month  campaign  \\\n",
              "0      55         admin.     1662      no   no   cellular   jun         2   \n",
              "1      39  self-employed    -3058     yes  yes   cellular   apr         3   \n",
              "2      51         admin.     3025      no   no   cellular   may         1   \n",
              "3      38       services      -87     yes   no   cellular   may         1   \n",
              "4      36      housemaid      205     yes   no  telephone   nov         4   \n",
              "...   ...            ...      ...     ...  ...        ...   ...       ...   \n",
              "7808   62      housemaid        2      no   no   cellular   nov         1   \n",
              "7809   48      housemaid     5473      no   no   cellular   feb         2   \n",
              "7810   36        unknown      179      no   no   cellular   aug         8   \n",
              "7811   31         admin.       54     yes   no   cellular   nov         1   \n",
              "7812   60        retired     1588      no   no   cellular   oct         1   \n",
              "\n",
              "      pdays poutcome deposit  \n",
              "0        -1  unknown     yes  \n",
              "1        -1  unknown     yes  \n",
              "2       352    other     yes  \n",
              "3        -1  unknown      no  \n",
              "4        -1  unknown      no  \n",
              "...     ...      ...     ...  \n",
              "7808     -1  unknown     yes  \n",
              "7809    184  success     yes  \n",
              "7810     -1  unknown      no  \n",
              "7811     -1  unknown      no  \n",
              "7812     -1  unknown     yes  \n",
              "\n",
              "[7813 rows x 11 columns]"
            ]
          },
          "execution_count": 2,
          "metadata": {},
          "output_type": "execute_result"
        }
      ],
      "source": [
        "df = pd.read_csv('data_bank_marketing_campaign.csv')\n",
        "df"
      ]
    },
    {
      "cell_type": "code",
      "execution_count": 3,
      "metadata": {
        "id": "k03nZmBvwosu",
        "outputId": "13170310-d726-42d7-aeb1-69fe442b739a"
      },
      "outputs": [
        {
          "name": "stdout",
          "output_type": "stream",
          "text": [
            "From the original dataset, we have 7813 customers and 11 features. Later, we will see if we have to reduce the numbers of customers if some of them are outliers\n"
          ]
        }
      ],
      "source": [
        "print(f\"From the original dataset, we have {df.shape[0]} customers and {df.shape[1]} features. Later, we will see if we have to reduce the numbers of customers if some of them are outliers\")"
      ]
    },
    {
      "cell_type": "markdown",
      "metadata": {
        "id": "s9CU35nnwosu"
      },
      "source": [
        "### Missing values\n",
        "\n",
        "We also need to check if our dataset has missing values. This is important because these missing values will impact the step of data modeling"
      ]
    },
    {
      "cell_type": "code",
      "execution_count": 4,
      "metadata": {
        "id": "lYqA2LDnnTxb",
        "outputId": "9c9e6fb7-c16f-46e8-e371-cc7cf0dec21b"
      },
      "outputs": [
        {
          "name": "stdout",
          "output_type": "stream",
          "text": [
            "<class 'pandas.core.frame.DataFrame'>\n",
            "RangeIndex: 7813 entries, 0 to 7812\n",
            "Data columns (total 11 columns):\n",
            " #   Column    Non-Null Count  Dtype \n",
            "---  ------    --------------  ----- \n",
            " 0   age       7813 non-null   int64 \n",
            " 1   job       7813 non-null   object\n",
            " 2   balance   7813 non-null   int64 \n",
            " 3   housing   7813 non-null   object\n",
            " 4   loan      7813 non-null   object\n",
            " 5   contact   7813 non-null   object\n",
            " 6   month     7813 non-null   object\n",
            " 7   campaign  7813 non-null   int64 \n",
            " 8   pdays     7813 non-null   int64 \n",
            " 9   poutcome  7813 non-null   object\n",
            " 10  deposit   7813 non-null   object\n",
            "dtypes: int64(4), object(7)\n",
            "memory usage: 671.6+ KB\n"
          ]
        }
      ],
      "source": [
        "df.info()"
      ]
    },
    {
      "cell_type": "markdown",
      "metadata": {
        "id": "yvhCP3Y_wosv"
      },
      "source": [
        "Fortunately, we don't have missing values in our dataset. However, in the next step of data cleaning, we will also observe if we have outliers of each column."
      ]
    },
    {
      "cell_type": "markdown",
      "metadata": {},
      "source": [
        "### Duplicate Values\n",
        "We need to check if there are duplicate values in our data"
      ]
    },
    {
      "cell_type": "code",
      "execution_count": 5,
      "metadata": {},
      "outputs": [
        {
          "data": {
            "text/html": [
              "<div>\n",
              "<style scoped>\n",
              "    .dataframe tbody tr th:only-of-type {\n",
              "        vertical-align: middle;\n",
              "    }\n",
              "\n",
              "    .dataframe tbody tr th {\n",
              "        vertical-align: top;\n",
              "    }\n",
              "\n",
              "    .dataframe thead th {\n",
              "        text-align: right;\n",
              "    }\n",
              "</style>\n",
              "<table border=\"1\" class=\"dataframe\">\n",
              "  <thead>\n",
              "    <tr style=\"text-align: right;\">\n",
              "      <th></th>\n",
              "      <th>age</th>\n",
              "      <th>job</th>\n",
              "      <th>balance</th>\n",
              "      <th>housing</th>\n",
              "      <th>loan</th>\n",
              "      <th>contact</th>\n",
              "      <th>month</th>\n",
              "      <th>campaign</th>\n",
              "      <th>pdays</th>\n",
              "      <th>poutcome</th>\n",
              "      <th>deposit</th>\n",
              "    </tr>\n",
              "  </thead>\n",
              "  <tbody>\n",
              "    <tr>\n",
              "      <th>2944</th>\n",
              "      <td>40</td>\n",
              "      <td>blue-collar</td>\n",
              "      <td>0</td>\n",
              "      <td>yes</td>\n",
              "      <td>no</td>\n",
              "      <td>unknown</td>\n",
              "      <td>may</td>\n",
              "      <td>2</td>\n",
              "      <td>-1</td>\n",
              "      <td>unknown</td>\n",
              "      <td>no</td>\n",
              "    </tr>\n",
              "    <tr>\n",
              "      <th>4368</th>\n",
              "      <td>60</td>\n",
              "      <td>management</td>\n",
              "      <td>0</td>\n",
              "      <td>no</td>\n",
              "      <td>no</td>\n",
              "      <td>cellular</td>\n",
              "      <td>aug</td>\n",
              "      <td>3</td>\n",
              "      <td>-1</td>\n",
              "      <td>unknown</td>\n",
              "      <td>yes</td>\n",
              "    </tr>\n",
              "    <tr>\n",
              "      <th>4874</th>\n",
              "      <td>41</td>\n",
              "      <td>management</td>\n",
              "      <td>0</td>\n",
              "      <td>no</td>\n",
              "      <td>no</td>\n",
              "      <td>cellular</td>\n",
              "      <td>aug</td>\n",
              "      <td>2</td>\n",
              "      <td>-1</td>\n",
              "      <td>unknown</td>\n",
              "      <td>no</td>\n",
              "    </tr>\n",
              "    <tr>\n",
              "      <th>5326</th>\n",
              "      <td>44</td>\n",
              "      <td>blue-collar</td>\n",
              "      <td>0</td>\n",
              "      <td>yes</td>\n",
              "      <td>no</td>\n",
              "      <td>cellular</td>\n",
              "      <td>jul</td>\n",
              "      <td>1</td>\n",
              "      <td>-1</td>\n",
              "      <td>unknown</td>\n",
              "      <td>no</td>\n",
              "    </tr>\n",
              "    <tr>\n",
              "      <th>5609</th>\n",
              "      <td>39</td>\n",
              "      <td>technician</td>\n",
              "      <td>0</td>\n",
              "      <td>yes</td>\n",
              "      <td>no</td>\n",
              "      <td>unknown</td>\n",
              "      <td>may</td>\n",
              "      <td>1</td>\n",
              "      <td>-1</td>\n",
              "      <td>unknown</td>\n",
              "      <td>no</td>\n",
              "    </tr>\n",
              "    <tr>\n",
              "      <th>5681</th>\n",
              "      <td>38</td>\n",
              "      <td>technician</td>\n",
              "      <td>0</td>\n",
              "      <td>no</td>\n",
              "      <td>no</td>\n",
              "      <td>cellular</td>\n",
              "      <td>aug</td>\n",
              "      <td>2</td>\n",
              "      <td>-1</td>\n",
              "      <td>unknown</td>\n",
              "      <td>no</td>\n",
              "    </tr>\n",
              "    <tr>\n",
              "      <th>5905</th>\n",
              "      <td>34</td>\n",
              "      <td>management</td>\n",
              "      <td>0</td>\n",
              "      <td>no</td>\n",
              "      <td>no</td>\n",
              "      <td>cellular</td>\n",
              "      <td>aug</td>\n",
              "      <td>2</td>\n",
              "      <td>-1</td>\n",
              "      <td>unknown</td>\n",
              "      <td>no</td>\n",
              "    </tr>\n",
              "    <tr>\n",
              "      <th>7077</th>\n",
              "      <td>30</td>\n",
              "      <td>blue-collar</td>\n",
              "      <td>239</td>\n",
              "      <td>yes</td>\n",
              "      <td>no</td>\n",
              "      <td>unknown</td>\n",
              "      <td>may</td>\n",
              "      <td>1</td>\n",
              "      <td>-1</td>\n",
              "      <td>unknown</td>\n",
              "      <td>yes</td>\n",
              "    </tr>\n",
              "  </tbody>\n",
              "</table>\n",
              "</div>"
            ],
            "text/plain": [
              "      age          job  balance housing loan   contact month  campaign  pdays  \\\n",
              "2944   40  blue-collar        0     yes   no   unknown   may         2     -1   \n",
              "4368   60   management        0      no   no  cellular   aug         3     -1   \n",
              "4874   41   management        0      no   no  cellular   aug         2     -1   \n",
              "5326   44  blue-collar        0     yes   no  cellular   jul         1     -1   \n",
              "5609   39   technician        0     yes   no   unknown   may         1     -1   \n",
              "5681   38   technician        0      no   no  cellular   aug         2     -1   \n",
              "5905   34   management        0      no   no  cellular   aug         2     -1   \n",
              "7077   30  blue-collar      239     yes   no   unknown   may         1     -1   \n",
              "\n",
              "     poutcome deposit  \n",
              "2944  unknown      no  \n",
              "4368  unknown     yes  \n",
              "4874  unknown      no  \n",
              "5326  unknown      no  \n",
              "5609  unknown      no  \n",
              "5681  unknown      no  \n",
              "5905  unknown      no  \n",
              "7077  unknown     yes  "
            ]
          },
          "metadata": {},
          "output_type": "display_data"
        },
        {
          "name": "stdout",
          "output_type": "stream",
          "text": [
            "There are 8 duplicate values in our data. We will remove these duplicates\n"
          ]
        }
      ],
      "source": [
        "display(df[df.duplicated()])\n",
        "print(f\"There are {df.duplicated().sum()} duplicate values in our data. We will remove these duplicates\")"
      ]
    },
    {
      "cell_type": "code",
      "execution_count": 6,
      "metadata": {},
      "outputs": [
        {
          "name": "stdout",
          "output_type": "stream",
          "text": [
            "After dropping duplicates, we have 7805 rows and 11 columns\n"
          ]
        }
      ],
      "source": [
        "df.drop_duplicates(inplace=True)\n",
        "print(f\"After dropping duplicates, we have {df.shape[0]} rows and {df.shape[1]} columns\")"
      ]
    },
    {
      "cell_type": "markdown",
      "metadata": {},
      "source": [
        "### Descriptive Statistics in General\n",
        "\n",
        "In this part, we want to know what information that our data have. This could be used to idenfity if we have outliers or not in our data"
      ]
    },
    {
      "cell_type": "code",
      "execution_count": 7,
      "metadata": {
        "id": "4T6mGjHZnTxc",
        "outputId": "8f635a49-6922-44f4-cf04-96c7b871ebdf"
      },
      "outputs": [
        {
          "data": {
            "text/html": [
              "<div>\n",
              "<style scoped>\n",
              "    .dataframe tbody tr th:only-of-type {\n",
              "        vertical-align: middle;\n",
              "    }\n",
              "\n",
              "    .dataframe tbody tr th {\n",
              "        vertical-align: top;\n",
              "    }\n",
              "\n",
              "    .dataframe thead th {\n",
              "        text-align: right;\n",
              "    }\n",
              "</style>\n",
              "<table border=\"1\" class=\"dataframe\">\n",
              "  <thead>\n",
              "    <tr style=\"text-align: right;\">\n",
              "      <th></th>\n",
              "      <th>age</th>\n",
              "      <th>balance</th>\n",
              "      <th>campaign</th>\n",
              "      <th>pdays</th>\n",
              "    </tr>\n",
              "  </thead>\n",
              "  <tbody>\n",
              "    <tr>\n",
              "      <th>count</th>\n",
              "      <td>7805.000000</td>\n",
              "      <td>7805.000000</td>\n",
              "      <td>7805.000000</td>\n",
              "      <td>7805.000000</td>\n",
              "    </tr>\n",
              "    <tr>\n",
              "      <th>mean</th>\n",
              "      <td>41.257783</td>\n",
              "      <td>1513.968225</td>\n",
              "      <td>2.520564</td>\n",
              "      <td>51.462268</td>\n",
              "    </tr>\n",
              "    <tr>\n",
              "      <th>std</th>\n",
              "      <td>11.922833</td>\n",
              "      <td>3090.508938</td>\n",
              "      <td>2.728204</td>\n",
              "      <td>108.115084</td>\n",
              "    </tr>\n",
              "    <tr>\n",
              "      <th>min</th>\n",
              "      <td>18.000000</td>\n",
              "      <td>-6847.000000</td>\n",
              "      <td>1.000000</td>\n",
              "      <td>-1.000000</td>\n",
              "    </tr>\n",
              "    <tr>\n",
              "      <th>25%</th>\n",
              "      <td>32.000000</td>\n",
              "      <td>128.000000</td>\n",
              "      <td>1.000000</td>\n",
              "      <td>-1.000000</td>\n",
              "    </tr>\n",
              "    <tr>\n",
              "      <th>50%</th>\n",
              "      <td>39.000000</td>\n",
              "      <td>550.000000</td>\n",
              "      <td>2.000000</td>\n",
              "      <td>-1.000000</td>\n",
              "    </tr>\n",
              "    <tr>\n",
              "      <th>75%</th>\n",
              "      <td>49.000000</td>\n",
              "      <td>1685.000000</td>\n",
              "      <td>3.000000</td>\n",
              "      <td>41.000000</td>\n",
              "    </tr>\n",
              "    <tr>\n",
              "      <th>max</th>\n",
              "      <td>95.000000</td>\n",
              "      <td>66653.000000</td>\n",
              "      <td>63.000000</td>\n",
              "      <td>854.000000</td>\n",
              "    </tr>\n",
              "  </tbody>\n",
              "</table>\n",
              "</div>"
            ],
            "text/plain": [
              "               age       balance     campaign        pdays\n",
              "count  7805.000000   7805.000000  7805.000000  7805.000000\n",
              "mean     41.257783   1513.968225     2.520564    51.462268\n",
              "std      11.922833   3090.508938     2.728204   108.115084\n",
              "min      18.000000  -6847.000000     1.000000    -1.000000\n",
              "25%      32.000000    128.000000     1.000000    -1.000000\n",
              "50%      39.000000    550.000000     2.000000    -1.000000\n",
              "75%      49.000000   1685.000000     3.000000    41.000000\n",
              "max      95.000000  66653.000000    63.000000   854.000000"
            ]
          },
          "metadata": {},
          "output_type": "display_data"
        },
        {
          "data": {
            "text/html": [
              "<div>\n",
              "<style scoped>\n",
              "    .dataframe tbody tr th:only-of-type {\n",
              "        vertical-align: middle;\n",
              "    }\n",
              "\n",
              "    .dataframe tbody tr th {\n",
              "        vertical-align: top;\n",
              "    }\n",
              "\n",
              "    .dataframe thead th {\n",
              "        text-align: right;\n",
              "    }\n",
              "</style>\n",
              "<table border=\"1\" class=\"dataframe\">\n",
              "  <thead>\n",
              "    <tr style=\"text-align: right;\">\n",
              "      <th></th>\n",
              "      <th>job</th>\n",
              "      <th>housing</th>\n",
              "      <th>loan</th>\n",
              "      <th>contact</th>\n",
              "      <th>month</th>\n",
              "      <th>poutcome</th>\n",
              "      <th>deposit</th>\n",
              "    </tr>\n",
              "  </thead>\n",
              "  <tbody>\n",
              "    <tr>\n",
              "      <th>count</th>\n",
              "      <td>7805</td>\n",
              "      <td>7805</td>\n",
              "      <td>7805</td>\n",
              "      <td>7805</td>\n",
              "      <td>7805</td>\n",
              "      <td>7805</td>\n",
              "      <td>7805</td>\n",
              "    </tr>\n",
              "    <tr>\n",
              "      <th>unique</th>\n",
              "      <td>12</td>\n",
              "      <td>2</td>\n",
              "      <td>2</td>\n",
              "      <td>3</td>\n",
              "      <td>12</td>\n",
              "      <td>4</td>\n",
              "      <td>2</td>\n",
              "    </tr>\n",
              "    <tr>\n",
              "      <th>top</th>\n",
              "      <td>management</td>\n",
              "      <td>no</td>\n",
              "      <td>no</td>\n",
              "      <td>cellular</td>\n",
              "      <td>may</td>\n",
              "      <td>unknown</td>\n",
              "      <td>no</td>\n",
              "    </tr>\n",
              "    <tr>\n",
              "      <th>freq</th>\n",
              "      <td>1789</td>\n",
              "      <td>4136</td>\n",
              "      <td>6781</td>\n",
              "      <td>5623</td>\n",
              "      <td>1973</td>\n",
              "      <td>5811</td>\n",
              "      <td>4075</td>\n",
              "    </tr>\n",
              "  </tbody>\n",
              "</table>\n",
              "</div>"
            ],
            "text/plain": [
              "               job housing  loan   contact month poutcome deposit\n",
              "count         7805    7805  7805      7805  7805     7805    7805\n",
              "unique          12       2     2         3    12        4       2\n",
              "top     management      no    no  cellular   may  unknown      no\n",
              "freq          1789    4136  6781      5623  1973     5811    4075"
            ]
          },
          "metadata": {},
          "output_type": "display_data"
        }
      ],
      "source": [
        "display(df.describe(),df.describe(include='object'))"
      ]
    },
    {
      "cell_type": "markdown",
      "metadata": {},
      "source": [
        "### Check Data Balance\n",
        "In this step, we are going to figure out that our data is balanced or not by checking the data target deposit` feature. We will consider a data is balance based on its ratio of binary classes ('yes' and 'no')"
      ]
    },
    {
      "cell_type": "code",
      "execution_count": 8,
      "metadata": {},
      "outputs": [
        {
          "data": {
            "text/html": [
              "<div>\n",
              "<style scoped>\n",
              "    .dataframe tbody tr th:only-of-type {\n",
              "        vertical-align: middle;\n",
              "    }\n",
              "\n",
              "    .dataframe tbody tr th {\n",
              "        vertical-align: top;\n",
              "    }\n",
              "\n",
              "    .dataframe thead th {\n",
              "        text-align: right;\n",
              "    }\n",
              "</style>\n",
              "<table border=\"1\" class=\"dataframe\">\n",
              "  <thead>\n",
              "    <tr style=\"text-align: right;\">\n",
              "      <th></th>\n",
              "      <th>deposit</th>\n",
              "      <th>percentage(%)</th>\n",
              "    </tr>\n",
              "  </thead>\n",
              "  <tbody>\n",
              "    <tr>\n",
              "      <th>0</th>\n",
              "      <td>no</td>\n",
              "      <td>52.21</td>\n",
              "    </tr>\n",
              "    <tr>\n",
              "      <th>1</th>\n",
              "      <td>yes</td>\n",
              "      <td>47.79</td>\n",
              "    </tr>\n",
              "  </tbody>\n",
              "</table>\n",
              "</div>"
            ],
            "text/plain": [
              "  deposit  percentage(%)\n",
              "0      no          52.21\n",
              "1     yes          47.79"
            ]
          },
          "metadata": {},
          "output_type": "display_data"
        },
        {
          "data": {
            "image/png": "[encoded data removed]",
            "text/plain": [
              "<Figure size 432x288 with 1 Axes>"
            ]
          },
          "metadata": {
            "needs_background": "light"
          },
          "output_type": "display_data"
        }
      ],
      "source": [
        "# check data balance\n",
        "deposit_percent = pd.DataFrame(round(df['deposit'].value_counts()/len(df)*100,2)).reset_index().rename(columns={'index':'deposit','deposit':'percentage(%)'})\n",
        "display(deposit_percent)\n",
        "\n",
        "sns.barplot(y='percentage(%)',x='deposit',data=deposit_percent,palette='Set2')\n",
        "plt.title(\"Percentage of deposit feature data\")\n",
        "plt.show()"
      ]
    },
    {
      "cell_type": "markdown",
      "metadata": {},
      "source": [
        "It is shown that the negative class has more data than the positive class. By looking at the percentage of those two classes, we can tell that the ratio is pretty small. So, our dataset is balance based on data target."
      ]
    },
    {
      "cell_type": "markdown",
      "metadata": {},
      "source": [
        "After checking the descriptive statistics from the dataset, we can tell that:\n",
        "1. The age of customers are from 18-95 years old. For future analysis and modeling, we will modify this feature into age categories\n",
        "2. There are customers who have negative balance and the balance data has outliers. The possibility for future analysis and modeling is removing outliers from balance feature.\n",
        "3. pdays feature has -1, we will replace this with 0 since it means that the customer never contacted before\n",
        "4. There 12 jobs of customers in the dataset and the most frequent value is management\n",
        "5. Most customers don't have house credit and loan\n",
        "6. Customers are most contacted via cellular\n",
        "7. Campaign are most performed in May\n",
        "8. the outcome of the campaign is unknown, it is assumed as missing value and we will handle this later\n",
        "9. Most of customers don't subscribe to our deposit product and it is proved after we check the deposit data and the ratio between the positive class ('yes') and negative class ('no') is 1.1, which means the ratio is very small.\n",
        "10. Therefore, We conclude that our data target is balance."
      ]
    },
    {
      "cell_type": "markdown",
      "metadata": {},
      "source": [
        "From the report above, we will handle the outliers and modify data from some columns. To do this, we have to handle the outliers from balance column, modify age and pdays column. Next, we will also handle the \"unknown\" value from poutcome and last. We also will check on the correlation from numerical features."
      ]
    },
    {
      "cell_type": "markdown",
      "metadata": {},
      "source": [
        "## EXPLANATORY DATA ANALYSIS"
      ]
    },
    {
      "cell_type": "markdown",
      "metadata": {},
      "source": [
        "## Numerical Features"
      ]
    },
    {
      "cell_type": "markdown",
      "metadata": {},
      "source": [
        "### Feature : age"
      ]
    },
    {
      "cell_type": "code",
      "execution_count": 9,
      "metadata": {},
      "outputs": [
        {
          "data": {
            "image/png": "[encoded data removed]",
            "text/plain": [
              "<Figure size 432x288 with 2 Axes>"
            ]
          },
          "metadata": {
            "needs_background": "light"
          },
          "output_type": "display_data"
        }
      ],
      "source": [
        "# Visualization of 'age'\n",
        "age = df['age']\n",
        "mean = np.array(age).mean()\n",
        "median = np.median(age)\n",
        "\n",
        "f,(ax_box,ax_hist) = plt.subplots(2, sharex=True, gridspec_kw={\"height_ratios\":(0.5,2)})\n",
        "\n",
        "sns.boxplot(age, ax=ax_box)\n",
        "ax_box.axvline(mean, color='r',linestyle='--')\n",
        "ax_box.axvline(median, color='g',linestyle='-')\n",
        "\n",
        "sns.histplot(data=df, x='age',ax=ax_hist)\n",
        "ax_hist.axvline(mean, color='r',linestyle='--')\n",
        "ax_hist.axvline(median, color='g',linestyle='-')\n",
        "\n",
        "plt.legend({'Mean':mean,'Median':median})\n",
        "ax_box.set(xlabel='')\n",
        "\n",
        "plt.show()"
      ]
    },
    {
      "cell_type": "markdown",
      "metadata": {},
      "source": [
        "From the histogram above, it shows that **age** feature has not normal distribution and outliers. However, we don't have to remove the outliers from this feature because we want to see the variety of our customers' age. Instead, we will categorize the our age customers based on age generation such as :\n",
        "- Gen Z = 18 - 25 years old\n",
        "- Millenials = 26 - 41 years old\n",
        "- Gen X = 42 - 57 years old\n",
        "- Boomers = >57 years old"
      ]
    },
    {
      "cell_type": "code",
      "execution_count": 10,
      "metadata": {},
      "outputs": [],
      "source": [
        "def age_group(x):\n",
        "    if x>=18 and x<=25:\n",
        "        return 'Gen Z'\n",
        "    elif x>=26 and x<=41:\n",
        "        return 'Millenials'\n",
        "    elif x>=42 and x<=57:\n",
        "        return 'Gen X'\n",
        "    else:\n",
        "        return 'Boomers'\n",
        "age_group_final = df['age'].apply(age_group)\n",
        "df.insert(1,'age_group',age_group_final)"
      ]
    },
    {
      "cell_type": "code",
      "execution_count": 11,
      "metadata": {},
      "outputs": [
        {
          "data": {
            "text/html": [
              "<div>\n",
              "<style scoped>\n",
              "    .dataframe tbody tr th:only-of-type {\n",
              "        vertical-align: middle;\n",
              "    }\n",
              "\n",
              "    .dataframe tbody tr th {\n",
              "        vertical-align: top;\n",
              "    }\n",
              "\n",
              "    .dataframe thead th {\n",
              "        text-align: right;\n",
              "    }\n",
              "</style>\n",
              "<table border=\"1\" class=\"dataframe\">\n",
              "  <thead>\n",
              "    <tr style=\"text-align: right;\">\n",
              "      <th></th>\n",
              "      <th>age_group</th>\n",
              "      <th>percentage (%)</th>\n",
              "    </tr>\n",
              "  </thead>\n",
              "  <tbody>\n",
              "    <tr>\n",
              "      <th>0</th>\n",
              "      <td>Millenials</td>\n",
              "      <td>54.32</td>\n",
              "    </tr>\n",
              "    <tr>\n",
              "      <th>1</th>\n",
              "      <td>Gen X</td>\n",
              "      <td>31.62</td>\n",
              "    </tr>\n",
              "    <tr>\n",
              "      <th>2</th>\n",
              "      <td>Boomers</td>\n",
              "      <td>10.12</td>\n",
              "    </tr>\n",
              "    <tr>\n",
              "      <th>3</th>\n",
              "      <td>Gen Z</td>\n",
              "      <td>3.93</td>\n",
              "    </tr>\n",
              "  </tbody>\n",
              "</table>\n",
              "</div>"
            ],
            "text/plain": [
              "    age_group  percentage (%)\n",
              "0  Millenials           54.32\n",
              "1       Gen X           31.62\n",
              "2     Boomers           10.12\n",
              "3       Gen Z            3.93"
            ]
          },
          "metadata": {},
          "output_type": "display_data"
        },
        {
          "data": {
            "image/png": "[encoded data removed]",
            "text/plain": [
              "<Figure size 432x288 with 1 Axes>"
            ]
          },
          "metadata": {
            "needs_background": "light"
          },
          "output_type": "display_data"
        }
      ],
      "source": [
        "age_percent = pd.DataFrame(round(df['age_group'].value_counts()/len(df)*100,2)).reset_index().rename(columns={'index':'age_group','age_group':'percentage (%)'})\n",
        "display(age_percent)\n",
        "\n",
        "\n",
        "sns.barplot(y='percentage (%)',x='age_group',data=age_percent,palette='Set2')\n",
        "plt.title(\"Percentage of age_group feature data\")\n",
        "plt.show()"
      ]
    },
    {
      "cell_type": "code",
      "execution_count": 13,
      "metadata": {},
      "outputs": [
        {
          "data": {
            "image/png": "[encoded data removed]",
            "text/plain": [
              "<Figure size 432x288 with 1 Axes>"
            ]
          },
          "metadata": {
            "needs_background": "light"
          },
          "output_type": "display_data"
        }
      ],
      "source": [
        "sns.countplot(data=df,x='age_group',hue='deposit',palette='Set2')\n",
        "plt.title(\"Customers' Subscription based on Age Group\");"
      ]
    },
    {
      "cell_type": "markdown",
      "metadata": {},
      "source": [
        "From the bar plot above, we know that are most customers are from Milleanials group (26-41 years old) and the least customers are from Gen Z group (18-25 years old). However, we take a look at the second graph, Boomers and Gen Z customers have more customers to subscribe than not subscribe to the deposit. Millenials and Gen X have more customers to subscribe but the number of customers who don't subscribe even higher. So, we better also approach the boomers and Gen Z to get more customers to susbcribe the deposit product."
      ]
    },
    {
      "cell_type": "markdown",
      "metadata": {},
      "source": [
        "### Feature : balance"
      ]
    },
    {
      "cell_type": "code",
      "execution_count": 14,
      "metadata": {
        "id": "Yl-Gy85AnTxd",
        "outputId": "97f59ba7-569f-45ae-ed39-248b1a6ab8e2"
      },
      "outputs": [
        {
          "data": {
            "image/png": "[encoded data removed]",
            "text/plain": [
              "<Figure size 432x288 with 2 Axes>"
            ]
          },
          "metadata": {
            "needs_background": "light"
          },
          "output_type": "display_data"
        }
      ],
      "source": [
        "# Visualization of 'balance'\n",
        "balance = df['balance']\n",
        "mean = np.array(balance).mean()\n",
        "median = np.median(balance)\n",
        "\n",
        "f,(ax_box,ax_hist) = plt.subplots(2, sharex=True, gridspec_kw={\"height_ratios\":(0.5,2)})\n",
        "\n",
        "sns.boxplot(balance, ax=ax_box)\n",
        "ax_box.axvline(mean, color='r',linestyle='--')\n",
        "ax_box.axvline(median, color='g',linestyle='-')\n",
        "\n",
        "sns.histplot(data=df, x='balance',ax=ax_hist)\n",
        "ax_hist.axvline(mean, color='r',linestyle='--')\n",
        "ax_hist.axvline(median, color='g',linestyle='-')\n",
        "\n",
        "plt.legend({'Mean':mean,'Median':median})\n",
        "ax_box.set(xlabel='')\n",
        "\n",
        "plt.show()"
      ]
    },
    {
      "cell_type": "markdown",
      "metadata": {
        "id": "wSFRIA1ewosw"
      },
      "source": [
        "From the histogram above, we can see that balance data is skewed, meaning that the balance data is not normal distributed and will have outliers. Here, we are going to check the outliers from the balance."
      ]
    },
    {
      "cell_type": "code",
      "execution_count": 15,
      "metadata": {},
      "outputs": [],
      "source": [
        "def outliers(x):\n",
        "    q1 = x.quantile(q=0.25)\n",
        "    q3 = x.quantile(q=0.75)\n",
        "\n",
        "    iqr  = q3-q1\n",
        "\n",
        "    upper = q3 + iqr*1.5\n",
        "    lower = q1 - iqr*1.5\n",
        "\n",
        "    return upper,lower"
      ]
    },
    {
      "cell_type": "code",
      "execution_count": 17,
      "metadata": {},
      "outputs": [
        {
          "name": "stdout",
          "output_type": "stream",
          "text": [
            "The Upper Fence value is 4020.5 EUR and the lower fence value is -2207.5 EUR\n",
            "The total of data outliers is 736 data which means 9.43% of the dataset\n"
          ]
        }
      ],
      "source": [
        "print(f\"The Upper Fence value is {outliers(df['balance'])[0]} EUR and the lower fence value is {outliers(df['balance'])[1]} EUR\")\n",
        "print(f\"The total of data outliers is {len(df[(df['balance']>=outliers(df['balance'])[0])|(df['balance']<=outliers(df['balance'])[1])])} data which means {round(len(df[(df['balance']>=outliers(df['balance'])[0])|(df['balance']<=outliers(df['balance'])[1])])/len(df)*100,2)}% of the dataset\") "
      ]
    },
    {
      "cell_type": "markdown",
      "metadata": {},
      "source": [
        "Because we only have 736 outliers of balance data, we will remove these outliers in order to get a better modeling result."
      ]
    },
    {
      "cell_type": "code",
      "execution_count": 18,
      "metadata": {},
      "outputs": [
        {
          "data": {
            "text/html": [
              "<div>\n",
              "<style scoped>\n",
              "    .dataframe tbody tr th:only-of-type {\n",
              "        vertical-align: middle;\n",
              "    }\n",
              "\n",
              "    .dataframe tbody tr th {\n",
              "        vertical-align: top;\n",
              "    }\n",
              "\n",
              "    .dataframe thead th {\n",
              "        text-align: right;\n",
              "    }\n",
              "</style>\n",
              "<table border=\"1\" class=\"dataframe\">\n",
              "  <thead>\n",
              "    <tr style=\"text-align: right;\">\n",
              "      <th></th>\n",
              "      <th>age</th>\n",
              "      <th>age_group</th>\n",
              "      <th>job</th>\n",
              "      <th>balance</th>\n",
              "      <th>housing</th>\n",
              "      <th>loan</th>\n",
              "      <th>contact</th>\n",
              "      <th>month</th>\n",
              "      <th>campaign</th>\n",
              "      <th>pdays</th>\n",
              "      <th>poutcome</th>\n",
              "      <th>deposit</th>\n",
              "    </tr>\n",
              "  </thead>\n",
              "  <tbody>\n",
              "    <tr>\n",
              "      <th>0</th>\n",
              "      <td>55</td>\n",
              "      <td>Gen X</td>\n",
              "      <td>admin.</td>\n",
              "      <td>1662</td>\n",
              "      <td>no</td>\n",
              "      <td>no</td>\n",
              "      <td>cellular</td>\n",
              "      <td>jun</td>\n",
              "      <td>2</td>\n",
              "      <td>-1</td>\n",
              "      <td>unknown</td>\n",
              "      <td>yes</td>\n",
              "    </tr>\n",
              "    <tr>\n",
              "      <th>2</th>\n",
              "      <td>51</td>\n",
              "      <td>Gen X</td>\n",
              "      <td>admin.</td>\n",
              "      <td>3025</td>\n",
              "      <td>no</td>\n",
              "      <td>no</td>\n",
              "      <td>cellular</td>\n",
              "      <td>may</td>\n",
              "      <td>1</td>\n",
              "      <td>352</td>\n",
              "      <td>other</td>\n",
              "      <td>yes</td>\n",
              "    </tr>\n",
              "    <tr>\n",
              "      <th>3</th>\n",
              "      <td>38</td>\n",
              "      <td>Millenials</td>\n",
              "      <td>services</td>\n",
              "      <td>-87</td>\n",
              "      <td>yes</td>\n",
              "      <td>no</td>\n",
              "      <td>cellular</td>\n",
              "      <td>may</td>\n",
              "      <td>1</td>\n",
              "      <td>-1</td>\n",
              "      <td>unknown</td>\n",
              "      <td>no</td>\n",
              "    </tr>\n",
              "    <tr>\n",
              "      <th>4</th>\n",
              "      <td>36</td>\n",
              "      <td>Millenials</td>\n",
              "      <td>housemaid</td>\n",
              "      <td>205</td>\n",
              "      <td>yes</td>\n",
              "      <td>no</td>\n",
              "      <td>telephone</td>\n",
              "      <td>nov</td>\n",
              "      <td>4</td>\n",
              "      <td>-1</td>\n",
              "      <td>unknown</td>\n",
              "      <td>no</td>\n",
              "    </tr>\n",
              "    <tr>\n",
              "      <th>5</th>\n",
              "      <td>41</td>\n",
              "      <td>Millenials</td>\n",
              "      <td>admin.</td>\n",
              "      <td>-76</td>\n",
              "      <td>yes</td>\n",
              "      <td>no</td>\n",
              "      <td>cellular</td>\n",
              "      <td>apr</td>\n",
              "      <td>1</td>\n",
              "      <td>-1</td>\n",
              "      <td>unknown</td>\n",
              "      <td>no</td>\n",
              "    </tr>\n",
              "    <tr>\n",
              "      <th>...</th>\n",
              "      <td>...</td>\n",
              "      <td>...</td>\n",
              "      <td>...</td>\n",
              "      <td>...</td>\n",
              "      <td>...</td>\n",
              "      <td>...</td>\n",
              "      <td>...</td>\n",
              "      <td>...</td>\n",
              "      <td>...</td>\n",
              "      <td>...</td>\n",
              "      <td>...</td>\n",
              "      <td>...</td>\n",
              "    </tr>\n",
              "    <tr>\n",
              "      <th>7807</th>\n",
              "      <td>33</td>\n",
              "      <td>Millenials</td>\n",
              "      <td>management</td>\n",
              "      <td>0</td>\n",
              "      <td>yes</td>\n",
              "      <td>yes</td>\n",
              "      <td>cellular</td>\n",
              "      <td>may</td>\n",
              "      <td>2</td>\n",
              "      <td>-1</td>\n",
              "      <td>unknown</td>\n",
              "      <td>no</td>\n",
              "    </tr>\n",
              "    <tr>\n",
              "      <th>7808</th>\n",
              "      <td>62</td>\n",
              "      <td>Boomers</td>\n",
              "      <td>housemaid</td>\n",
              "      <td>2</td>\n",
              "      <td>no</td>\n",
              "      <td>no</td>\n",
              "      <td>cellular</td>\n",
              "      <td>nov</td>\n",
              "      <td>1</td>\n",
              "      <td>-1</td>\n",
              "      <td>unknown</td>\n",
              "      <td>yes</td>\n",
              "    </tr>\n",
              "    <tr>\n",
              "      <th>7810</th>\n",
              "      <td>36</td>\n",
              "      <td>Millenials</td>\n",
              "      <td>unknown</td>\n",
              "      <td>179</td>\n",
              "      <td>no</td>\n",
              "      <td>no</td>\n",
              "      <td>cellular</td>\n",
              "      <td>aug</td>\n",
              "      <td>8</td>\n",
              "      <td>-1</td>\n",
              "      <td>unknown</td>\n",
              "      <td>no</td>\n",
              "    </tr>\n",
              "    <tr>\n",
              "      <th>7811</th>\n",
              "      <td>31</td>\n",
              "      <td>Millenials</td>\n",
              "      <td>admin.</td>\n",
              "      <td>54</td>\n",
              "      <td>yes</td>\n",
              "      <td>no</td>\n",
              "      <td>cellular</td>\n",
              "      <td>nov</td>\n",
              "      <td>1</td>\n",
              "      <td>-1</td>\n",
              "      <td>unknown</td>\n",
              "      <td>no</td>\n",
              "    </tr>\n",
              "    <tr>\n",
              "      <th>7812</th>\n",
              "      <td>60</td>\n",
              "      <td>Boomers</td>\n",
              "      <td>retired</td>\n",
              "      <td>1588</td>\n",
              "      <td>no</td>\n",
              "      <td>no</td>\n",
              "      <td>cellular</td>\n",
              "      <td>oct</td>\n",
              "      <td>1</td>\n",
              "      <td>-1</td>\n",
              "      <td>unknown</td>\n",
              "      <td>yes</td>\n",
              "    </tr>\n",
              "  </tbody>\n",
              "</table>\n",
              "<p>7069 rows × 12 columns</p>\n",
              "</div>"
            ],
            "text/plain": [
              "      age   age_group         job  balance housing loan    contact month  \\\n",
              "0      55       Gen X      admin.     1662      no   no   cellular   jun   \n",
              "2      51       Gen X      admin.     3025      no   no   cellular   may   \n",
              "3      38  Millenials    services      -87     yes   no   cellular   may   \n",
              "4      36  Millenials   housemaid      205     yes   no  telephone   nov   \n",
              "5      41  Millenials      admin.      -76     yes   no   cellular   apr   \n",
              "...   ...         ...         ...      ...     ...  ...        ...   ...   \n",
              "7807   33  Millenials  management        0     yes  yes   cellular   may   \n",
              "7808   62     Boomers   housemaid        2      no   no   cellular   nov   \n",
              "7810   36  Millenials     unknown      179      no   no   cellular   aug   \n",
              "7811   31  Millenials      admin.       54     yes   no   cellular   nov   \n",
              "7812   60     Boomers     retired     1588      no   no   cellular   oct   \n",
              "\n",
              "      campaign  pdays poutcome deposit  \n",
              "0            2     -1  unknown     yes  \n",
              "2            1    352    other     yes  \n",
              "3            1     -1  unknown      no  \n",
              "4            4     -1  unknown      no  \n",
              "5            1     -1  unknown      no  \n",
              "...        ...    ...      ...     ...  \n",
              "7807         2     -1  unknown      no  \n",
              "7808         1     -1  unknown     yes  \n",
              "7810         8     -1  unknown      no  \n",
              "7811         1     -1  unknown      no  \n",
              "7812         1     -1  unknown     yes  \n",
              "\n",
              "[7069 rows x 12 columns]"
            ]
          },
          "execution_count": 18,
          "metadata": {},
          "output_type": "execute_result"
        }
      ],
      "source": [
        "df= df[~((df['balance']>=outliers(df['balance'])[0])|(df['balance']<=outliers(df['balance'])[1]))]\n",
        "df"
      ]
    },
    {
      "cell_type": "code",
      "execution_count": 19,
      "metadata": {},
      "outputs": [
        {
          "data": {
            "text/plain": [
              "count    7069.000000\n",
              "mean      801.763899\n",
              "std       983.820911\n",
              "min     -1965.000000\n",
              "25%       100.000000\n",
              "50%       443.000000\n",
              "75%      1222.000000\n",
              "max      4017.000000\n",
              "Name: balance, dtype: float64"
            ]
          },
          "execution_count": 19,
          "metadata": {},
          "output_type": "execute_result"
        }
      ],
      "source": [
        "df['balance'].describe()"
      ]
    },
    {
      "cell_type": "code",
      "execution_count": 20,
      "metadata": {},
      "outputs": [
        {
          "data": {
            "image/png": "[encoded data removed]",
            "text/plain": [
              "<Figure size 432x288 with 2 Axes>"
            ]
          },
          "metadata": {
            "needs_background": "light"
          },
          "output_type": "display_data"
        }
      ],
      "source": [
        "# Check the new Visualization of 'balance'\n",
        "balance = df['balance']\n",
        "mean = np.array(balance).mean()\n",
        "median = np.median(balance)\n",
        "\n",
        "f,(ax_box,ax_hist) = plt.subplots(2, sharex=True, gridspec_kw={\"height_ratios\":(0.5,2)})\n",
        "\n",
        "sns.boxplot(balance, ax=ax_box)\n",
        "ax_box.axvline(mean, color='r',linestyle='--')\n",
        "ax_box.axvline(median, color='g',linestyle='-')\n",
        "\n",
        "sns.histplot(data=df, x='balance',ax=ax_hist)\n",
        "ax_hist.axvline(mean, color='r',linestyle='--')\n",
        "ax_hist.axvline(median, color='g',linestyle='-')\n",
        "\n",
        "plt.legend({'Mean':mean,'Median':median})\n",
        "ax_box.set(xlabel='')\n",
        "\n",
        "plt.show()"
      ]
    },
    {
      "cell_type": "markdown",
      "metadata": {},
      "source": [
        "We are still curious with the customers who have negative balance. To answer our curiosity, we will investigate these customers based on their poutcome and deposit features."
      ]
    },
    {
      "cell_type": "code",
      "execution_count": 21,
      "metadata": {},
      "outputs": [
        {
          "data": {
            "text/plain": [
              "476"
            ]
          },
          "metadata": {},
          "output_type": "display_data"
        },
        {
          "data": {
            "text/plain": [
              "unknown    411\n",
              "failure     44\n",
              "other       14\n",
              "success      7\n",
              "Name: poutcome, dtype: int64"
            ]
          },
          "metadata": {},
          "output_type": "display_data"
        },
        {
          "data": {
            "text/plain": [
              "no     337\n",
              "yes    139\n",
              "Name: deposit, dtype: int64"
            ]
          },
          "metadata": {},
          "output_type": "display_data"
        }
      ],
      "source": [
        "df_0=df[((df['balance']<0))]\n",
        "display(len(df_0),df_0['poutcome'].value_counts(),df_0['deposit'].value_counts())"
      ]
    },
    {
      "cell_type": "markdown",
      "metadata": {},
      "source": [
        "Turns out, the customers who have negative balance don't have enough information about their poutcome because most of their status are `unknown` and their deposit status is `no`. So, we can remove these data as our effort to make our data more balance."
      ]
    },
    {
      "cell_type": "code",
      "execution_count": 22,
      "metadata": {},
      "outputs": [
        {
          "data": {
            "text/html": [
              "<div>\n",
              "<style scoped>\n",
              "    .dataframe tbody tr th:only-of-type {\n",
              "        vertical-align: middle;\n",
              "    }\n",
              "\n",
              "    .dataframe tbody tr th {\n",
              "        vertical-align: top;\n",
              "    }\n",
              "\n",
              "    .dataframe thead th {\n",
              "        text-align: right;\n",
              "    }\n",
              "</style>\n",
              "<table border=\"1\" class=\"dataframe\">\n",
              "  <thead>\n",
              "    <tr style=\"text-align: right;\">\n",
              "      <th></th>\n",
              "      <th>age</th>\n",
              "      <th>age_group</th>\n",
              "      <th>job</th>\n",
              "      <th>balance</th>\n",
              "      <th>housing</th>\n",
              "      <th>loan</th>\n",
              "      <th>contact</th>\n",
              "      <th>month</th>\n",
              "      <th>campaign</th>\n",
              "      <th>pdays</th>\n",
              "      <th>poutcome</th>\n",
              "      <th>deposit</th>\n",
              "    </tr>\n",
              "  </thead>\n",
              "  <tbody>\n",
              "    <tr>\n",
              "      <th>0</th>\n",
              "      <td>55</td>\n",
              "      <td>Gen X</td>\n",
              "      <td>admin.</td>\n",
              "      <td>1662</td>\n",
              "      <td>no</td>\n",
              "      <td>no</td>\n",
              "      <td>cellular</td>\n",
              "      <td>jun</td>\n",
              "      <td>2</td>\n",
              "      <td>-1</td>\n",
              "      <td>unknown</td>\n",
              "      <td>yes</td>\n",
              "    </tr>\n",
              "    <tr>\n",
              "      <th>2</th>\n",
              "      <td>51</td>\n",
              "      <td>Gen X</td>\n",
              "      <td>admin.</td>\n",
              "      <td>3025</td>\n",
              "      <td>no</td>\n",
              "      <td>no</td>\n",
              "      <td>cellular</td>\n",
              "      <td>may</td>\n",
              "      <td>1</td>\n",
              "      <td>352</td>\n",
              "      <td>other</td>\n",
              "      <td>yes</td>\n",
              "    </tr>\n",
              "    <tr>\n",
              "      <th>4</th>\n",
              "      <td>36</td>\n",
              "      <td>Millenials</td>\n",
              "      <td>housemaid</td>\n",
              "      <td>205</td>\n",
              "      <td>yes</td>\n",
              "      <td>no</td>\n",
              "      <td>telephone</td>\n",
              "      <td>nov</td>\n",
              "      <td>4</td>\n",
              "      <td>-1</td>\n",
              "      <td>unknown</td>\n",
              "      <td>no</td>\n",
              "    </tr>\n",
              "    <tr>\n",
              "      <th>7</th>\n",
              "      <td>36</td>\n",
              "      <td>Millenials</td>\n",
              "      <td>technician</td>\n",
              "      <td>911</td>\n",
              "      <td>yes</td>\n",
              "      <td>yes</td>\n",
              "      <td>cellular</td>\n",
              "      <td>may</td>\n",
              "      <td>2</td>\n",
              "      <td>21</td>\n",
              "      <td>failure</td>\n",
              "      <td>yes</td>\n",
              "    </tr>\n",
              "    <tr>\n",
              "      <th>8</th>\n",
              "      <td>35</td>\n",
              "      <td>Millenials</td>\n",
              "      <td>management</td>\n",
              "      <td>805</td>\n",
              "      <td>no</td>\n",
              "      <td>no</td>\n",
              "      <td>cellular</td>\n",
              "      <td>sep</td>\n",
              "      <td>1</td>\n",
              "      <td>-1</td>\n",
              "      <td>unknown</td>\n",
              "      <td>no</td>\n",
              "    </tr>\n",
              "    <tr>\n",
              "      <th>...</th>\n",
              "      <td>...</td>\n",
              "      <td>...</td>\n",
              "      <td>...</td>\n",
              "      <td>...</td>\n",
              "      <td>...</td>\n",
              "      <td>...</td>\n",
              "      <td>...</td>\n",
              "      <td>...</td>\n",
              "      <td>...</td>\n",
              "      <td>...</td>\n",
              "      <td>...</td>\n",
              "      <td>...</td>\n",
              "    </tr>\n",
              "    <tr>\n",
              "      <th>7807</th>\n",
              "      <td>33</td>\n",
              "      <td>Millenials</td>\n",
              "      <td>management</td>\n",
              "      <td>0</td>\n",
              "      <td>yes</td>\n",
              "      <td>yes</td>\n",
              "      <td>cellular</td>\n",
              "      <td>may</td>\n",
              "      <td>2</td>\n",
              "      <td>-1</td>\n",
              "      <td>unknown</td>\n",
              "      <td>no</td>\n",
              "    </tr>\n",
              "    <tr>\n",
              "      <th>7808</th>\n",
              "      <td>62</td>\n",
              "      <td>Boomers</td>\n",
              "      <td>housemaid</td>\n",
              "      <td>2</td>\n",
              "      <td>no</td>\n",
              "      <td>no</td>\n",
              "      <td>cellular</td>\n",
              "      <td>nov</td>\n",
              "      <td>1</td>\n",
              "      <td>-1</td>\n",
              "      <td>unknown</td>\n",
              "      <td>yes</td>\n",
              "    </tr>\n",
              "    <tr>\n",
              "      <th>7810</th>\n",
              "      <td>36</td>\n",
              "      <td>Millenials</td>\n",
              "      <td>unknown</td>\n",
              "      <td>179</td>\n",
              "      <td>no</td>\n",
              "      <td>no</td>\n",
              "      <td>cellular</td>\n",
              "      <td>aug</td>\n",
              "      <td>8</td>\n",
              "      <td>-1</td>\n",
              "      <td>unknown</td>\n",
              "      <td>no</td>\n",
              "    </tr>\n",
              "    <tr>\n",
              "      <th>7811</th>\n",
              "      <td>31</td>\n",
              "      <td>Millenials</td>\n",
              "      <td>admin.</td>\n",
              "      <td>54</td>\n",
              "      <td>yes</td>\n",
              "      <td>no</td>\n",
              "      <td>cellular</td>\n",
              "      <td>nov</td>\n",
              "      <td>1</td>\n",
              "      <td>-1</td>\n",
              "      <td>unknown</td>\n",
              "      <td>no</td>\n",
              "    </tr>\n",
              "    <tr>\n",
              "      <th>7812</th>\n",
              "      <td>60</td>\n",
              "      <td>Boomers</td>\n",
              "      <td>retired</td>\n",
              "      <td>1588</td>\n",
              "      <td>no</td>\n",
              "      <td>no</td>\n",
              "      <td>cellular</td>\n",
              "      <td>oct</td>\n",
              "      <td>1</td>\n",
              "      <td>-1</td>\n",
              "      <td>unknown</td>\n",
              "      <td>yes</td>\n",
              "    </tr>\n",
              "  </tbody>\n",
              "</table>\n",
              "<p>6593 rows × 12 columns</p>\n",
              "</div>"
            ],
            "text/plain": [
              "      age   age_group         job  balance housing loan    contact month  \\\n",
              "0      55       Gen X      admin.     1662      no   no   cellular   jun   \n",
              "2      51       Gen X      admin.     3025      no   no   cellular   may   \n",
              "4      36  Millenials   housemaid      205     yes   no  telephone   nov   \n",
              "7      36  Millenials  technician      911     yes  yes   cellular   may   \n",
              "8      35  Millenials  management      805      no   no   cellular   sep   \n",
              "...   ...         ...         ...      ...     ...  ...        ...   ...   \n",
              "7807   33  Millenials  management        0     yes  yes   cellular   may   \n",
              "7808   62     Boomers   housemaid        2      no   no   cellular   nov   \n",
              "7810   36  Millenials     unknown      179      no   no   cellular   aug   \n",
              "7811   31  Millenials      admin.       54     yes   no   cellular   nov   \n",
              "7812   60     Boomers     retired     1588      no   no   cellular   oct   \n",
              "\n",
              "      campaign  pdays poutcome deposit  \n",
              "0            2     -1  unknown     yes  \n",
              "2            1    352    other     yes  \n",
              "4            4     -1  unknown      no  \n",
              "7            2     21  failure     yes  \n",
              "8            1     -1  unknown      no  \n",
              "...        ...    ...      ...     ...  \n",
              "7807         2     -1  unknown      no  \n",
              "7808         1     -1  unknown     yes  \n",
              "7810         8     -1  unknown      no  \n",
              "7811         1     -1  unknown      no  \n",
              "7812         1     -1  unknown     yes  \n",
              "\n",
              "[6593 rows x 12 columns]"
            ]
          },
          "execution_count": 22,
          "metadata": {},
          "output_type": "execute_result"
        }
      ],
      "source": [
        "df = df[~((df['balance']<0))]\n",
        "df"
      ]
    },
    {
      "cell_type": "code",
      "execution_count": 23,
      "metadata": {},
      "outputs": [
        {
          "data": {
            "image/png": "[encoded data removed]",
            "text/plain": [
              "<Figure size 432x288 with 2 Axes>"
            ]
          },
          "metadata": {
            "needs_background": "light"
          },
          "output_type": "display_data"
        }
      ],
      "source": [
        "# Check the new Visualization of 'balance'\n",
        "balance = df['balance']\n",
        "mean = np.array(balance).mean()\n",
        "median = np.median(balance)\n",
        "\n",
        "f,(ax_box,ax_hist) = plt.subplots(2, sharex=True, gridspec_kw={\"height_ratios\":(0.5,2)})\n",
        "\n",
        "sns.boxplot(balance, ax=ax_box)\n",
        "ax_box.axvline(mean, color='r',linestyle='--')\n",
        "ax_box.axvline(median, color='g',linestyle='-')\n",
        "\n",
        "sns.histplot(data=df, x='balance',ax=ax_hist)\n",
        "ax_hist.axvline(mean, color='r',linestyle='--')\n",
        "ax_hist.axvline(median, color='g',linestyle='-')\n",
        "\n",
        "plt.legend({'Mean':mean,'Median':median})\n",
        "ax_box.set(xlabel='')\n",
        "\n",
        "plt.show()"
      ]
    },
    {
      "cell_type": "markdown",
      "metadata": {},
      "source": [
        "Now, our balance data is range from 0 to around 4000 EUR"
      ]
    },
    {
      "cell_type": "markdown",
      "metadata": {},
      "source": [
        "### Feature: pdays\n",
        "Next, we wil check on data in pdays feature."
      ]
    },
    {
      "cell_type": "code",
      "execution_count": 24,
      "metadata": {},
      "outputs": [
        {
          "data": {
            "text/plain": [
              "-1      4872\n",
              " 92       63\n",
              " 91       57\n",
              " 182      54\n",
              " 183      51\n",
              "        ... \n",
              " 555       1\n",
              " 449       1\n",
              " 776       1\n",
              " 469       1\n",
              " 155       1\n",
              "Name: pdays, Length: 405, dtype: int64"
            ]
          },
          "execution_count": 24,
          "metadata": {},
          "output_type": "execute_result"
        }
      ],
      "source": [
        "# Check the unique values and count the values from pdays\n",
        "df['pdays'].value_counts()"
      ]
    },
    {
      "cell_type": "markdown",
      "metadata": {},
      "source": [
        "From earlier description, we know that pdays = -1, meaning that a customer has not been contacted before. This value will be replaced as 0, to show that the customer is never contacted before."
      ]
    },
    {
      "cell_type": "code",
      "execution_count": 25,
      "metadata": {},
      "outputs": [
        {
          "data": {
            "text/plain": [
              "0      4872\n",
              "92       63\n",
              "91       57\n",
              "182      54\n",
              "183      51\n",
              "       ... \n",
              "555       1\n",
              "449       1\n",
              "776       1\n",
              "469       1\n",
              "155       1\n",
              "Name: pdays, Length: 405, dtype: int64"
            ]
          },
          "execution_count": 25,
          "metadata": {},
          "output_type": "execute_result"
        }
      ],
      "source": [
        "# replace -1 with 0\n",
        "df['pdays']=df['pdays'].replace({-1:0})\n",
        "df['pdays'].value_counts()"
      ]
    },
    {
      "cell_type": "markdown",
      "metadata": {},
      "source": [
        "From the data above, we know that most customers are never contacted before. We will keep this feature to see if this feature has correlation with our target."
      ]
    },
    {
      "cell_type": "markdown",
      "metadata": {},
      "source": [
        "### Feature: campaign"
      ]
    },
    {
      "cell_type": "code",
      "execution_count": 26,
      "metadata": {},
      "outputs": [
        {
          "data": {
            "text/plain": [
              "1     2841\n",
              "2     1773\n",
              "3      773\n",
              "4      465\n",
              "5      221\n",
              "6      161\n",
              "7       86\n",
              "8       75\n",
              "9       35\n",
              "10      35\n",
              "11      22\n",
              "13      21\n",
              "12      17\n",
              "14      10\n",
              "17       9\n",
              "15       6\n",
              "16       6\n",
              "18       6\n",
              "21       5\n",
              "30       4\n",
              "19       3\n",
              "22       3\n",
              "24       3\n",
              "20       3\n",
              "23       2\n",
              "26       2\n",
              "29       2\n",
              "33       1\n",
              "28       1\n",
              "25       1\n",
              "43       1\n",
              "Name: campaign, dtype: int64"
            ]
          },
          "execution_count": 26,
          "metadata": {},
          "output_type": "execute_result"
        }
      ],
      "source": [
        "# check the campaign data by looking at its unique values and the value counts\n",
        "df['campaign'].value_counts()"
      ]
    },
    {
      "cell_type": "code",
      "execution_count": 27,
      "metadata": {},
      "outputs": [
        {
          "data": {
            "image/png": "[encoded data removed]",
            "text/plain": [
              "<Figure size 1440x720 with 1 Axes>"
            ]
          },
          "metadata": {
            "needs_background": "light"
          },
          "output_type": "display_data"
        }
      ],
      "source": [
        "# Visualization of 'campaign'\n",
        "plt.figure(figsize=(20,10))\n",
        "sns.countplot(data=df, x='campaign',hue='deposit',palette='Set2')\n",
        "plt.title('Number of Campaign of the customers')\n",
        "plt.legend(loc='upper right')\n",
        "plt.show()"
      ]
    },
    {
      "cell_type": "markdown",
      "metadata": {},
      "source": [
        "From the plot above, customers who are contacted more than once will like tend to not subscribe to our deposit product. This makes sense because they already think that it is enough to deposit to our product once and probably they will be annoyed if we always contact them. So, we better not to contact them if they have been contacted once. Later for the modeling, we will remove this feature because we cannot get this feature before the campaign."
      ]
    },
    {
      "cell_type": "markdown",
      "metadata": {},
      "source": [
        "## Categorical Features"
      ]
    },
    {
      "cell_type": "markdown",
      "metadata": {},
      "source": [
        "### Feature: Job"
      ]
    },
    {
      "cell_type": "code",
      "execution_count": 28,
      "metadata": {
        "id": "9wAGIEHMnTxe",
        "outputId": "b85571c9-67f2-4284-b765-a91f7df09b94"
      },
      "outputs": [
        {
          "data": {
            "text/plain": [
              "management       22.766571\n",
              "blue-collar      16.790535\n",
              "technician       16.274837\n",
              "admin.           12.240255\n",
              "services          8.478690\n",
              "retired           6.840589\n",
              "self-employed     3.685727\n",
              "student           3.443046\n",
              "unemployed        3.352040\n",
              "entrepreneur      2.988018\n",
              "housemaid         2.441984\n",
              "unknown           0.697710\n",
              "Name: job, dtype: float64"
            ]
          },
          "execution_count": 28,
          "metadata": {},
          "output_type": "execute_result"
        }
      ],
      "source": [
        "# check the number of each value of job feature\n",
        "df['job'].value_counts()/len(df)*100"
      ]
    },
    {
      "cell_type": "markdown",
      "metadata": {},
      "source": [
        "We see that we have 0.6% unknown data, to impute this missing value, we will impute them with the mode of data which is `management`"
      ]
    },
    {
      "cell_type": "code",
      "execution_count": 29,
      "metadata": {
        "id": "PXdV6wH1nTxf"
      },
      "outputs": [],
      "source": [
        "# replace unknown with management\n",
        "df['job']=df['job'].replace({'unknown':df['job'].mode().iloc[0]})"
      ]
    },
    {
      "cell_type": "code",
      "execution_count": 30,
      "metadata": {},
      "outputs": [
        {
          "data": {
            "text/html": [
              "<div>\n",
              "<style scoped>\n",
              "    .dataframe tbody tr th:only-of-type {\n",
              "        vertical-align: middle;\n",
              "    }\n",
              "\n",
              "    .dataframe tbody tr th {\n",
              "        vertical-align: top;\n",
              "    }\n",
              "\n",
              "    .dataframe thead th {\n",
              "        text-align: right;\n",
              "    }\n",
              "</style>\n",
              "<table border=\"1\" class=\"dataframe\">\n",
              "  <thead>\n",
              "    <tr style=\"text-align: right;\">\n",
              "      <th></th>\n",
              "      <th>job</th>\n",
              "      <th>percentage (%)</th>\n",
              "    </tr>\n",
              "  </thead>\n",
              "  <tbody>\n",
              "    <tr>\n",
              "      <th>0</th>\n",
              "      <td>management</td>\n",
              "      <td>23.46</td>\n",
              "    </tr>\n",
              "    <tr>\n",
              "      <th>1</th>\n",
              "      <td>blue-collar</td>\n",
              "      <td>16.79</td>\n",
              "    </tr>\n",
              "    <tr>\n",
              "      <th>2</th>\n",
              "      <td>technician</td>\n",
              "      <td>16.27</td>\n",
              "    </tr>\n",
              "    <tr>\n",
              "      <th>3</th>\n",
              "      <td>admin.</td>\n",
              "      <td>12.24</td>\n",
              "    </tr>\n",
              "    <tr>\n",
              "      <th>4</th>\n",
              "      <td>services</td>\n",
              "      <td>8.48</td>\n",
              "    </tr>\n",
              "    <tr>\n",
              "      <th>5</th>\n",
              "      <td>retired</td>\n",
              "      <td>6.84</td>\n",
              "    </tr>\n",
              "    <tr>\n",
              "      <th>6</th>\n",
              "      <td>self-employed</td>\n",
              "      <td>3.69</td>\n",
              "    </tr>\n",
              "    <tr>\n",
              "      <th>7</th>\n",
              "      <td>student</td>\n",
              "      <td>3.44</td>\n",
              "    </tr>\n",
              "    <tr>\n",
              "      <th>8</th>\n",
              "      <td>unemployed</td>\n",
              "      <td>3.35</td>\n",
              "    </tr>\n",
              "    <tr>\n",
              "      <th>9</th>\n",
              "      <td>entrepreneur</td>\n",
              "      <td>2.99</td>\n",
              "    </tr>\n",
              "    <tr>\n",
              "      <th>10</th>\n",
              "      <td>housemaid</td>\n",
              "      <td>2.44</td>\n",
              "    </tr>\n",
              "  </tbody>\n",
              "</table>\n",
              "</div>"
            ],
            "text/plain": [
              "              job  percentage (%)\n",
              "0      management           23.46\n",
              "1     blue-collar           16.79\n",
              "2      technician           16.27\n",
              "3          admin.           12.24\n",
              "4        services            8.48\n",
              "5         retired            6.84\n",
              "6   self-employed            3.69\n",
              "7         student            3.44\n",
              "8      unemployed            3.35\n",
              "9    entrepreneur            2.99\n",
              "10      housemaid            2.44"
            ]
          },
          "metadata": {},
          "output_type": "display_data"
        },
        {
          "data": {
            "image/png": "[encoded data removed]",
            "text/plain": [
              "<Figure size 720x720 with 1 Axes>"
            ]
          },
          "metadata": {
            "needs_background": "light"
          },
          "output_type": "display_data"
        }
      ],
      "source": [
        "# our new data of job feature after impute the missing value\n",
        "job_percent = pd.DataFrame(round(df['job'].value_counts()/len(df)*100,2)).reset_index().rename(columns={'index':'job','job':'percentage (%)'})\n",
        "display(job_percent)\n",
        "\n",
        "\n",
        "plt.figure(figsize=(10,10))\n",
        "sns.barplot(y='percentage (%)',x='job',data=job_percent,palette='Set2')\n",
        "plt.xticks(rotation=45)\n",
        "plt.title(\"Percentage of job feature data\")\n",
        "plt.show()"
      ]
    },
    {
      "cell_type": "markdown",
      "metadata": {},
      "source": [
        "We also want to know what job will subscribe to our deposit, so we can have a better insight about our customers deposit"
      ]
    },
    {
      "cell_type": "code",
      "execution_count": 31,
      "metadata": {},
      "outputs": [
        {
          "data": {
            "image/png": "[encoded data removed]",
            "text/plain": [
              "<Figure size 1440x720 with 1 Axes>"
            ]
          },
          "metadata": {
            "needs_background": "light"
          },
          "output_type": "display_data"
        }
      ],
      "source": [
        "# Visualization of 'campaign'\n",
        "plt.figure(figsize=(20,10))\n",
        "sns.countplot(data=df, x='job',hue='deposit',palette='Set2')\n",
        "plt.title('Number of Campaign of the customers')\n",
        "plt.legend(loc='upper right')\n",
        "plt.show()"
      ]
    },
    {
      "cell_type": "markdown",
      "metadata": {},
      "source": [
        "From the graph, we know that customers whose jobs are management, student, and retired will tend to subscribe to our deposit product. However, customers with management job will also likely not subscribe too. From this reason, we can focus on student and retired customers because the difference between subscribe and unsubscribe is relatively higher."
      ]
    },
    {
      "cell_type": "markdown",
      "metadata": {},
      "source": [
        "### Feature: Month"
      ]
    },
    {
      "cell_type": "code",
      "execution_count": 32,
      "metadata": {},
      "outputs": [
        {
          "data": {
            "text/html": [
              "<div>\n",
              "<style scoped>\n",
              "    .dataframe tbody tr th:only-of-type {\n",
              "        vertical-align: middle;\n",
              "    }\n",
              "\n",
              "    .dataframe tbody tr th {\n",
              "        vertical-align: top;\n",
              "    }\n",
              "\n",
              "    .dataframe thead th {\n",
              "        text-align: right;\n",
              "    }\n",
              "</style>\n",
              "<table border=\"1\" class=\"dataframe\">\n",
              "  <thead>\n",
              "    <tr style=\"text-align: right;\">\n",
              "      <th></th>\n",
              "      <th>month</th>\n",
              "      <th>percentage (%)</th>\n",
              "    </tr>\n",
              "  </thead>\n",
              "  <tbody>\n",
              "    <tr>\n",
              "      <th>0</th>\n",
              "      <td>may</td>\n",
              "      <td>24.59</td>\n",
              "    </tr>\n",
              "    <tr>\n",
              "      <th>1</th>\n",
              "      <td>aug</td>\n",
              "      <td>14.33</td>\n",
              "    </tr>\n",
              "    <tr>\n",
              "      <th>2</th>\n",
              "      <td>jul</td>\n",
              "      <td>13.27</td>\n",
              "    </tr>\n",
              "    <tr>\n",
              "      <th>3</th>\n",
              "      <td>jun</td>\n",
              "      <td>11.03</td>\n",
              "    </tr>\n",
              "    <tr>\n",
              "      <th>4</th>\n",
              "      <td>apr</td>\n",
              "      <td>8.83</td>\n",
              "    </tr>\n",
              "    <tr>\n",
              "      <th>5</th>\n",
              "      <td>nov</td>\n",
              "      <td>7.86</td>\n",
              "    </tr>\n",
              "    <tr>\n",
              "      <th>6</th>\n",
              "      <td>feb</td>\n",
              "      <td>7.07</td>\n",
              "    </tr>\n",
              "    <tr>\n",
              "      <th>7</th>\n",
              "      <td>oct</td>\n",
              "      <td>3.78</td>\n",
              "    </tr>\n",
              "    <tr>\n",
              "      <th>8</th>\n",
              "      <td>jan</td>\n",
              "      <td>3.02</td>\n",
              "    </tr>\n",
              "    <tr>\n",
              "      <th>9</th>\n",
              "      <td>sep</td>\n",
              "      <td>2.87</td>\n",
              "    </tr>\n",
              "    <tr>\n",
              "      <th>10</th>\n",
              "      <td>mar</td>\n",
              "      <td>2.50</td>\n",
              "    </tr>\n",
              "    <tr>\n",
              "      <th>11</th>\n",
              "      <td>dec</td>\n",
              "      <td>0.86</td>\n",
              "    </tr>\n",
              "  </tbody>\n",
              "</table>\n",
              "</div>"
            ],
            "text/plain": [
              "   month  percentage (%)\n",
              "0    may           24.59\n",
              "1    aug           14.33\n",
              "2    jul           13.27\n",
              "3    jun           11.03\n",
              "4    apr            8.83\n",
              "5    nov            7.86\n",
              "6    feb            7.07\n",
              "7    oct            3.78\n",
              "8    jan            3.02\n",
              "9    sep            2.87\n",
              "10   mar            2.50\n",
              "11   dec            0.86"
            ]
          },
          "metadata": {},
          "output_type": "display_data"
        },
        {
          "data": {
            "image/png": "[encoded data removed]",
            "text/plain": [
              "<Figure size 720x720 with 1 Axes>"
            ]
          },
          "metadata": {
            "needs_background": "light"
          },
          "output_type": "display_data"
        }
      ],
      "source": [
        "month_percent = pd.DataFrame(round(df['month'].value_counts()/len(df)*100,2)).reset_index().rename(columns={'index':'month','month':'percentage (%)'})\n",
        "display(month_percent)\n",
        "\n",
        "plt.figure(figsize=(10,10))\n",
        "sns.barplot(y='percentage (%)',x='month',data=month_percent,palette='Set2')\n",
        "# plt.xticks(rotation=45)\n",
        "plt.title(\"Percentage of month feature data\")\n",
        "plt.show()"
      ]
    },
    {
      "cell_type": "markdown",
      "metadata": {},
      "source": [
        "From the graph above, we know that in May has a lot of campaigns performed. We are curious if in May has many customers to subscribe to our deposit product."
      ]
    },
    {
      "cell_type": "code",
      "execution_count": 33,
      "metadata": {},
      "outputs": [
        {
          "data": {
            "image/png": "[encoded data removed]",
            "text/plain": [
              "<Figure size 1080x720 with 1 Axes>"
            ]
          },
          "metadata": {
            "needs_background": "light"
          },
          "output_type": "display_data"
        }
      ],
      "source": [
        "# Visualization of 'Month'\n",
        "plt.figure(figsize=(15,10))\n",
        "sns.countplot(data=df, x='month',hue='deposit',palette='Set2')\n",
        "plt.title('Number of Customers Subscription based on Month')\n",
        "plt.legend(loc='upper right')\n",
        "plt.show()"
      ]
    },
    {
      "cell_type": "markdown",
      "metadata": {},
      "source": [
        "It turns out that in May doesn't give many customers to subscribe our deposit product,eventough in that month gives the highest number of customers. However, in February, April, September, October,and December also give better results, which we can see from the difference between the 'yes' and 'no' numbers. It is needed more investigation why in these months give us many customers. "
      ]
    },
    {
      "cell_type": "markdown",
      "metadata": {},
      "source": [
        "### Feature: Housing"
      ]
    },
    {
      "cell_type": "code",
      "execution_count": 35,
      "metadata": {},
      "outputs": [
        {
          "data": {
            "text/html": [
              "<div>\n",
              "<style scoped>\n",
              "    .dataframe tbody tr th:only-of-type {\n",
              "        vertical-align: middle;\n",
              "    }\n",
              "\n",
              "    .dataframe tbody tr th {\n",
              "        vertical-align: top;\n",
              "    }\n",
              "\n",
              "    .dataframe thead th {\n",
              "        text-align: right;\n",
              "    }\n",
              "</style>\n",
              "<table border=\"1\" class=\"dataframe\">\n",
              "  <thead>\n",
              "    <tr style=\"text-align: right;\">\n",
              "      <th></th>\n",
              "      <th>housing</th>\n",
              "      <th>percentage (%)</th>\n",
              "    </tr>\n",
              "  </thead>\n",
              "  <tbody>\n",
              "    <tr>\n",
              "      <th>0</th>\n",
              "      <td>no</td>\n",
              "      <td>54.22</td>\n",
              "    </tr>\n",
              "    <tr>\n",
              "      <th>1</th>\n",
              "      <td>yes</td>\n",
              "      <td>45.78</td>\n",
              "    </tr>\n",
              "  </tbody>\n",
              "</table>\n",
              "</div>"
            ],
            "text/plain": [
              "  housing  percentage (%)\n",
              "0      no           54.22\n",
              "1     yes           45.78"
            ]
          },
          "metadata": {},
          "output_type": "display_data"
        },
        {
          "data": {
            "image/png": "[encoded data removed]",
            "text/plain": [
              "<Figure size 576x360 with 1 Axes>"
            ]
          },
          "metadata": {
            "needs_background": "light"
          },
          "output_type": "display_data"
        }
      ],
      "source": [
        "housing_percent = pd.DataFrame(round(df['housing'].value_counts()/len(df)*100,2)).reset_index().rename(columns={'index':'housing','housing':'percentage (%)'})\n",
        "display(housing_percent)\n",
        "\n",
        "\n",
        "plt.figure(figsize=(8,5))\n",
        "sns.barplot(y='percentage (%)',x='housing',data=housing_percent,palette='Set2')\n",
        "# plt.xticks(rotation=45)\n",
        "plt.title(\"Percentage of housing feature data\")\n",
        "plt.show()"
      ]
    },
    {
      "cell_type": "markdown",
      "metadata": {},
      "source": [
        "From the plot above, most of our customers don't have housing loan. We have an assumption that customers who don't have housing loan will tend to subscribe to our deposit product. To prove this, We need to see if these customers' subscription status."
      ]
    },
    {
      "cell_type": "code",
      "execution_count": 34,
      "metadata": {},
      "outputs": [
        {
          "data": {
            "image/png": "[encoded data removed]",
            "text/plain": [
              "<Figure size 720x360 with 1 Axes>"
            ]
          },
          "metadata": {
            "needs_background": "light"
          },
          "output_type": "display_data"
        }
      ],
      "source": [
        "plt.figure(figsize=(10,5))\n",
        "sns.countplot(data=df, x='housing',hue='deposit',palette='Set2')\n",
        "plt.title('Number of Customers Subscription based on Housing')\n",
        "plt.legend(loc='upper right')\n",
        "plt.show()"
      ]
    },
    {
      "cell_type": "markdown",
      "metadata": {},
      "source": [
        "The plot above shows that our assumption is true. The customers who don't have housing loan will likely to subscribe to our deposit products and vice versa. We also see that customers who have housing loan susbcribe to our deposit product eventough the number is smaller dan no housing loan"
      ]
    },
    {
      "cell_type": "markdown",
      "metadata": {},
      "source": [
        "### Feature: Loan\n"
      ]
    },
    {
      "cell_type": "code",
      "execution_count": 35,
      "metadata": {},
      "outputs": [
        {
          "data": {
            "text/html": [
              "<div>\n",
              "<style scoped>\n",
              "    .dataframe tbody tr th:only-of-type {\n",
              "        vertical-align: middle;\n",
              "    }\n",
              "\n",
              "    .dataframe tbody tr th {\n",
              "        vertical-align: top;\n",
              "    }\n",
              "\n",
              "    .dataframe thead th {\n",
              "        text-align: right;\n",
              "    }\n",
              "</style>\n",
              "<table border=\"1\" class=\"dataframe\">\n",
              "  <thead>\n",
              "    <tr style=\"text-align: right;\">\n",
              "      <th></th>\n",
              "      <th>loan</th>\n",
              "      <th>percentage (%)</th>\n",
              "    </tr>\n",
              "  </thead>\n",
              "  <tbody>\n",
              "    <tr>\n",
              "      <th>0</th>\n",
              "      <td>no</td>\n",
              "      <td>87.47</td>\n",
              "    </tr>\n",
              "    <tr>\n",
              "      <th>1</th>\n",
              "      <td>yes</td>\n",
              "      <td>12.53</td>\n",
              "    </tr>\n",
              "  </tbody>\n",
              "</table>\n",
              "</div>"
            ],
            "text/plain": [
              "  loan  percentage (%)\n",
              "0   no           87.47\n",
              "1  yes           12.53"
            ]
          },
          "metadata": {},
          "output_type": "display_data"
        },
        {
          "data": {
            "image/png": "[encoded data removed]",
            "text/plain": [
              "<Figure size 576x360 with 1 Axes>"
            ]
          },
          "metadata": {
            "needs_background": "light"
          },
          "output_type": "display_data"
        }
      ],
      "source": [
        "loan_percent = pd.DataFrame(round(df['loan'].value_counts()/len(df)*100,2)).reset_index().rename(columns={'index':'loan','loan':'percentage (%)'})\n",
        "display(loan_percent)\n",
        "\n",
        "\n",
        "plt.figure(figsize=(8,5))\n",
        "sns.barplot(y='percentage (%)',x='loan',data=loan_percent,palette='Set2')\n",
        "# plt.xticks(rotation=45)\n",
        "plt.title(\"Percentage of loan feature data\")\n",
        "plt.show()"
      ]
    },
    {
      "cell_type": "markdown",
      "metadata": {},
      "source": [
        "From the plot above, most of our customers don't have personal loan. We have an assumption that customers who don't have personal loan will tend to subscribe to our deposit product. To prove this, We need to see if these customers' subscription status."
      ]
    },
    {
      "cell_type": "code",
      "execution_count": 36,
      "metadata": {},
      "outputs": [
        {
          "data": {
            "image/png": "[encoded data removed]",
            "text/plain": [
              "<Figure size 720x360 with 1 Axes>"
            ]
          },
          "metadata": {
            "needs_background": "light"
          },
          "output_type": "display_data"
        }
      ],
      "source": [
        "plt.figure(figsize=(10,5))\n",
        "sns.countplot(data=df, x='loan',hue='deposit',palette='Set2')\n",
        "plt.title('Number of Customers Subscription based on Loan')\n",
        "plt.legend(loc='upper right')\n",
        "plt.show()"
      ]
    },
    {
      "cell_type": "markdown",
      "metadata": {},
      "source": [
        "From the plot above, it seems like our assumption is right. However, customers who don't have personal loan also tend to unsubscribe to our deposit product. So, it is needed more invetigation why these customers don't want to subscribe to our deposit product."
      ]
    },
    {
      "cell_type": "markdown",
      "metadata": {},
      "source": [
        "### Feature: poutcome"
      ]
    },
    {
      "cell_type": "code",
      "execution_count": 37,
      "metadata": {},
      "outputs": [
        {
          "data": {
            "text/html": [
              "<div>\n",
              "<style scoped>\n",
              "    .dataframe tbody tr th:only-of-type {\n",
              "        vertical-align: middle;\n",
              "    }\n",
              "\n",
              "    .dataframe tbody tr th {\n",
              "        vertical-align: top;\n",
              "    }\n",
              "\n",
              "    .dataframe thead th {\n",
              "        text-align: right;\n",
              "    }\n",
              "</style>\n",
              "<table border=\"1\" class=\"dataframe\">\n",
              "  <thead>\n",
              "    <tr style=\"text-align: right;\">\n",
              "      <th></th>\n",
              "      <th>poutcome</th>\n",
              "      <th>percentage (%)</th>\n",
              "    </tr>\n",
              "  </thead>\n",
              "  <tbody>\n",
              "    <tr>\n",
              "      <th>0</th>\n",
              "      <td>unknown</td>\n",
              "      <td>73.93</td>\n",
              "    </tr>\n",
              "    <tr>\n",
              "      <th>1</th>\n",
              "      <td>failure</td>\n",
              "      <td>10.94</td>\n",
              "    </tr>\n",
              "    <tr>\n",
              "      <th>2</th>\n",
              "      <td>success</td>\n",
              "      <td>10.12</td>\n",
              "    </tr>\n",
              "    <tr>\n",
              "      <th>3</th>\n",
              "      <td>other</td>\n",
              "      <td>5.02</td>\n",
              "    </tr>\n",
              "  </tbody>\n",
              "</table>\n",
              "</div>"
            ],
            "text/plain": [
              "  poutcome  percentage (%)\n",
              "0  unknown           73.93\n",
              "1  failure           10.94\n",
              "2  success           10.12\n",
              "3    other            5.02"
            ]
          },
          "metadata": {},
          "output_type": "display_data"
        }
      ],
      "source": [
        "poutcome_percent = pd.DataFrame(round(df['poutcome'].value_counts()/len(df)*100,2)).reset_index().rename(columns={'index':'poutcome','poutcome':'percentage (%)'})\n",
        "display(poutcome_percent)"
      ]
    },
    {
      "cell_type": "markdown",
      "metadata": {},
      "source": [
        "From the table above, we know that most of our customers poutcome status are unknown and few of them are labeled as other. To simplify this two labels, we will replace these with `nonexistent` because we literally don't what actually their status. "
      ]
    },
    {
      "cell_type": "code",
      "execution_count": 38,
      "metadata": {},
      "outputs": [
        {
          "data": {
            "text/html": [
              "<div>\n",
              "<style scoped>\n",
              "    .dataframe tbody tr th:only-of-type {\n",
              "        vertical-align: middle;\n",
              "    }\n",
              "\n",
              "    .dataframe tbody tr th {\n",
              "        vertical-align: top;\n",
              "    }\n",
              "\n",
              "    .dataframe thead th {\n",
              "        text-align: right;\n",
              "    }\n",
              "</style>\n",
              "<table border=\"1\" class=\"dataframe\">\n",
              "  <thead>\n",
              "    <tr style=\"text-align: right;\">\n",
              "      <th></th>\n",
              "      <th>poutcome</th>\n",
              "      <th>percentage (%)</th>\n",
              "    </tr>\n",
              "  </thead>\n",
              "  <tbody>\n",
              "    <tr>\n",
              "      <th>0</th>\n",
              "      <td>nonexistent</td>\n",
              "      <td>78.95</td>\n",
              "    </tr>\n",
              "    <tr>\n",
              "      <th>1</th>\n",
              "      <td>failure</td>\n",
              "      <td>10.94</td>\n",
              "    </tr>\n",
              "    <tr>\n",
              "      <th>2</th>\n",
              "      <td>success</td>\n",
              "      <td>10.12</td>\n",
              "    </tr>\n",
              "  </tbody>\n",
              "</table>\n",
              "</div>"
            ],
            "text/plain": [
              "      poutcome  percentage (%)\n",
              "0  nonexistent           78.95\n",
              "1      failure           10.94\n",
              "2      success           10.12"
            ]
          },
          "metadata": {},
          "output_type": "display_data"
        },
        {
          "data": {
            "image/png": "[encoded data removed]",
            "text/plain": [
              "<Figure size 576x360 with 1 Axes>"
            ]
          },
          "metadata": {
            "needs_background": "light"
          },
          "output_type": "display_data"
        }
      ],
      "source": [
        "df['poutcome']=df['poutcome'].replace({'unknown':'nonexistent','other':'nonexistent'})\n",
        "poutcome_percent_new = pd.DataFrame(round(df['poutcome'].value_counts()/len(df)*100,2)).reset_index().rename(columns={'index':'poutcome','poutcome':'percentage (%)'})\n",
        "display(poutcome_percent_new)\n",
        "\n",
        "plt.figure(figsize=(8,5))\n",
        "sns.barplot(y='percentage (%)',x='poutcome',data=poutcome_percent_new,palette='Set2')\n",
        "# plt.xticks(rotation=45)\n",
        "plt.title(\"Percentage of poutcome feature data\")\n",
        "plt.show()"
      ]
    },
    {
      "cell_type": "markdown",
      "metadata": {},
      "source": [
        "We also need to check the number of customers' subscription from this feature"
      ]
    },
    {
      "cell_type": "code",
      "execution_count": 39,
      "metadata": {},
      "outputs": [
        {
          "data": {
            "image/png": "[encoded data removed]",
            "text/plain": [
              "<Figure size 576x360 with 1 Axes>"
            ]
          },
          "metadata": {
            "needs_background": "light"
          },
          "output_type": "display_data"
        }
      ],
      "source": [
        "plt.figure(figsize=(8,5))\n",
        "sns.countplot(data=df, x='poutcome',hue='deposit',palette='Set2')\n",
        "plt.title('Number of Customers Subscription based on poutcome')\n",
        "plt.legend(loc='upper right')\n",
        "plt.show()"
      ]
    },
    {
      "cell_type": "markdown",
      "metadata": {},
      "source": [
        "We can tell from the plot that customers with success poutcome will susbcribe to our deposit product. It is also needed investigation on this nonexistent status that have some customers to subscribe to our deposit product. There is a possibility that these customers are actually labeled as success but the telemarketer forget to input/update/fill the poutcome status."
      ]
    },
    {
      "cell_type": "markdown",
      "metadata": {},
      "source": [
        "### Feature: Contact"
      ]
    },
    {
      "cell_type": "code",
      "execution_count": 40,
      "metadata": {},
      "outputs": [
        {
          "data": {
            "text/html": [
              "<div>\n",
              "<style scoped>\n",
              "    .dataframe tbody tr th:only-of-type {\n",
              "        vertical-align: middle;\n",
              "    }\n",
              "\n",
              "    .dataframe tbody tr th {\n",
              "        vertical-align: top;\n",
              "    }\n",
              "\n",
              "    .dataframe thead th {\n",
              "        text-align: right;\n",
              "    }\n",
              "</style>\n",
              "<table border=\"1\" class=\"dataframe\">\n",
              "  <thead>\n",
              "    <tr style=\"text-align: right;\">\n",
              "      <th></th>\n",
              "      <th>contact</th>\n",
              "      <th>percentage (%)</th>\n",
              "    </tr>\n",
              "  </thead>\n",
              "  <tbody>\n",
              "    <tr>\n",
              "      <th>0</th>\n",
              "      <td>cellular</td>\n",
              "      <td>72.62</td>\n",
              "    </tr>\n",
              "    <tr>\n",
              "      <th>1</th>\n",
              "      <td>unknown</td>\n",
              "      <td>20.54</td>\n",
              "    </tr>\n",
              "    <tr>\n",
              "      <th>2</th>\n",
              "      <td>telephone</td>\n",
              "      <td>6.84</td>\n",
              "    </tr>\n",
              "  </tbody>\n",
              "</table>\n",
              "</div>"
            ],
            "text/plain": [
              "     contact  percentage (%)\n",
              "0   cellular           72.62\n",
              "1    unknown           20.54\n",
              "2  telephone            6.84"
            ]
          },
          "metadata": {},
          "output_type": "display_data"
        }
      ],
      "source": [
        "contact_percent = pd.DataFrame(round(df['contact'].value_counts()/len(df)*100,2)).reset_index().rename(columns={'index':'contact','contact':'percentage (%)'})\n",
        "display(contact_percent)"
      ]
    },
    {
      "cell_type": "markdown",
      "metadata": {},
      "source": [
        "From the table above, there are 20.54% customers whose contact is unknown. We will replace these values with the most frequent value in contact column which is `cellular`. Based on our knowledge, these days people are usually with their phones (cellular) rather than telephone. So, this will make sense if cellular numbers is higher than telephone numbers."
      ]
    },
    {
      "cell_type": "code",
      "execution_count": 41,
      "metadata": {},
      "outputs": [
        {
          "data": {
            "image/png": "[encoded data removed]",
            "text/plain": [
              "<Figure size 576x360 with 1 Axes>"
            ]
          },
          "metadata": {
            "needs_background": "light"
          },
          "output_type": "display_data"
        }
      ],
      "source": [
        "df['contact']=df['contact'].replace({'unknown':'cellular'})\n",
        "contact_percent_new = pd.DataFrame(round(df['contact'].value_counts()/len(df)*100,2)).reset_index().rename(columns={'index':'contact','contact':'percentage (%)'})\n",
        "# display(poutcome_percent_new)\n",
        "\n",
        "plt.figure(figsize=(8,5))\n",
        "sns.barplot(y='percentage (%)',x='contact',data=contact_percent_new,palette='Set2')\n",
        "# plt.xticks(rotation=45)\n",
        "plt.title(\"Percentage of contact feature data\")\n",
        "plt.show()"
      ]
    },
    {
      "cell_type": "markdown",
      "metadata": {},
      "source": [
        "Next, we want to know customers' subscription from this feature. As we have learned before, we cannot directly believe that cellular contact will give us many customers. "
      ]
    },
    {
      "cell_type": "code",
      "execution_count": 42,
      "metadata": {},
      "outputs": [
        {
          "data": {
            "image/png": "[encoded data removed]",
            "text/plain": [
              "<Figure size 576x360 with 1 Axes>"
            ]
          },
          "metadata": {
            "needs_background": "light"
          },
          "output_type": "display_data"
        }
      ],
      "source": [
        "plt.figure(figsize=(8,5))\n",
        "sns.countplot(data=df, x='contact',hue='deposit',palette='Set2')\n",
        "plt.title('Number of Customers Subscription based on contact')\n",
        "plt.legend(loc='upper right')\n",
        "plt.show()"
      ]
    },
    {
      "cell_type": "markdown",
      "metadata": {},
      "source": [
        "The difference between subscribed and unsubscribed customers from cellular is relatively higher rather than from telephone. It makes sense since we contact our customers through cellular more, that's why we can see a significant difference of customers number. This plot also shows that the contact feature cannot literally tell the tendency of customers subscription. Even so, we still keep this feature for our modeling part."
      ]
    },
    {
      "cell_type": "code",
      "execution_count": 43,
      "metadata": {
        "id": "YkhWRyAsnTxi",
        "outputId": "52f10dd0-c832-4c50-bade-428716187e9d"
      },
      "outputs": [
        {
          "data": {
            "text/plain": [
              "0    3433\n",
              "1    3160\n",
              "Name: deposit, dtype: int64"
            ]
          },
          "execution_count": 43,
          "metadata": {},
          "output_type": "execute_result"
        }
      ],
      "source": [
        "# change the value of deposit into binary classes (1 for yes,0 for no)\n",
        "df['deposit'] = np.where(df['deposit']=='yes',1,0)\n",
        "df['deposit'].value_counts()"
      ]
    },
    {
      "cell_type": "markdown",
      "metadata": {},
      "source": [
        "### Correlation"
      ]
    },
    {
      "cell_type": "code",
      "execution_count": 44,
      "metadata": {},
      "outputs": [
        {
          "data": {
            "image/png": "[encoded data removed]",
            "text/plain": [
              "<Figure size 576x360 with 2 Axes>"
            ]
          },
          "metadata": {
            "needs_background": "light"
          },
          "output_type": "display_data"
        }
      ],
      "source": [
        "mask = np.triu(df.corr(method='spearman'),1)\n",
        "plt.figure(figsize=(8,5))\n",
        "sns.heatmap(df.corr(method='spearman'),annot=True,cmap='BrBG',mask=mask)\n",
        "plt.show()"
      ]
    },
    {
      "cell_type": "markdown",
      "metadata": {},
      "source": [
        "from the correlation plot above, we notice that `balance`, `campaign`, and `pdays`correlation with `deposit`. However, we will remove campaign because this feature is not obtained before the campaign.  "
      ]
    },
    {
      "cell_type": "code",
      "execution_count": 45,
      "metadata": {},
      "outputs": [
        {
          "name": "stdout",
          "output_type": "stream",
          "text": [
            "After dropping outliers, we have 6593 rows and 12 columns\n"
          ]
        }
      ],
      "source": [
        "# current dataset dimension\n",
        "print(f\"After dropping outliers, we have {df.shape[0]} rows and {df.shape[1]} columns\")"
      ]
    },
    {
      "cell_type": "markdown",
      "metadata": {},
      "source": [
        "## Current Conclusion\n",
        "\n",
        "1. From our cleaned dataset, now our `age` customers range from 18-95 years old and customers' `balance` range from 0-4017 EUR.\n",
        "2. Our customers tend to deposit if they are contacted only once, if we contact them more than once, they possibly will not subscribe to our deposit product. Also, if they are never contacted before (based on `pdays` feature), they also tend to subscribe.\n",
        "3. Most customers who subscribe the deposit products whose jobs are management, student, and retired. We should expand our approach to student and retired customers because we have too much approached on management customers. \n",
        "4. The optimal months to contact our customers are in Febrary, April, September, October, and December.\n",
        "5. Most of our customers who subscribe to our deposit product are the ones who don't have housing loan and personal loan.\n",
        "6. Customers whose poutcome status is success also will subscribe to our deposit product.\n",
        "7. Contact feature doesn't give any insights about our customers' subscription. However, we will keep this feature for modeling process\n",
        "8. `campaign` feature will not be used from modeling because this feature is not obtained before campaign\n",
        "9. Our data is balanced. So for the modeling we don't have to do data balancing.\n"
      ]
    },
    {
      "cell_type": "code",
      "execution_count": 46,
      "metadata": {},
      "outputs": [
        {
          "name": "stdout",
          "output_type": "stream",
          "text": [
            "After dropping campaign feature and age group, we have 6593 rows and 10 columns\n"
          ]
        }
      ],
      "source": [
        "df.drop(columns=['age_group','campaign'],inplace=True)\n",
        "print(f\"After dropping campaign feature and age group, we have {df.shape[0]} rows and {df.shape[1]} columns\")"
      ]
    },
    {
      "cell_type": "markdown",
      "metadata": {
        "id": "YaBImTV9nTxl"
      },
      "source": [
        "## Modeling\n",
        "\n",
        "In this part, we will do our modeling for the dataset. The steps are:\n",
        "- Data Preprocessing\n",
        "    - Data splitting (train and test set)\n",
        "    - Data Encoding and Scaling\n",
        "- Modeling\n",
        "    - Cross Validation of Benchmark Models\n",
        "    - Predict to Test Set\n",
        "    - Choose Best 3 models based on the performance score (accuracy and ROC AUC)\n",
        "    - Hyperparameter Tuning the 3 models\n",
        "    - Predict to Test set and calculate the marketing cost\n",
        "- Choose the best model with the lowest marketing cost\n",
        "- Recommendation"
      ]
    },
    {
      "cell_type": "markdown",
      "metadata": {},
      "source": [
        "## Data Preprocessing"
      ]
    },
    {
      "cell_type": "markdown",
      "metadata": {},
      "source": [
        "### Data Splitting"
      ]
    },
    {
      "cell_type": "code",
      "execution_count": 48,
      "metadata": {
        "id": "OVypaBOsnTxn"
      },
      "outputs": [],
      "source": [
        "# define X and y\n",
        "X = df.drop(columns=['deposit'])\n",
        "y = df['deposit']"
      ]
    },
    {
      "cell_type": "code",
      "execution_count": 49,
      "metadata": {
        "id": "8uihIlbnnTxn"
      },
      "outputs": [],
      "source": [
        "X_train, X_test, y_train, y_test = train_test_split(X, y, stratify = y, test_size=0.2, random_state=42)"
      ]
    },
    {
      "cell_type": "code",
      "execution_count": 50,
      "metadata": {},
      "outputs": [
        {
          "data": {
            "text/html": [
              "<div>\n",
              "<style scoped>\n",
              "    .dataframe tbody tr th:only-of-type {\n",
              "        vertical-align: middle;\n",
              "    }\n",
              "\n",
              "    .dataframe tbody tr th {\n",
              "        vertical-align: top;\n",
              "    }\n",
              "\n",
              "    .dataframe thead th {\n",
              "        text-align: right;\n",
              "    }\n",
              "</style>\n",
              "<table border=\"1\" class=\"dataframe\">\n",
              "  <thead>\n",
              "    <tr style=\"text-align: right;\">\n",
              "      <th></th>\n",
              "      <th>age</th>\n",
              "      <th>job</th>\n",
              "      <th>balance</th>\n",
              "      <th>housing</th>\n",
              "      <th>loan</th>\n",
              "      <th>contact</th>\n",
              "      <th>month</th>\n",
              "      <th>pdays</th>\n",
              "      <th>poutcome</th>\n",
              "    </tr>\n",
              "  </thead>\n",
              "  <tbody>\n",
              "    <tr>\n",
              "      <th>2429</th>\n",
              "      <td>48</td>\n",
              "      <td>management</td>\n",
              "      <td>268</td>\n",
              "      <td>yes</td>\n",
              "      <td>no</td>\n",
              "      <td>cellular</td>\n",
              "      <td>jul</td>\n",
              "      <td>0</td>\n",
              "      <td>nonexistent</td>\n",
              "    </tr>\n",
              "    <tr>\n",
              "      <th>3490</th>\n",
              "      <td>59</td>\n",
              "      <td>management</td>\n",
              "      <td>893</td>\n",
              "      <td>yes</td>\n",
              "      <td>no</td>\n",
              "      <td>cellular</td>\n",
              "      <td>apr</td>\n",
              "      <td>0</td>\n",
              "      <td>nonexistent</td>\n",
              "    </tr>\n",
              "    <tr>\n",
              "      <th>0</th>\n",
              "      <td>55</td>\n",
              "      <td>admin.</td>\n",
              "      <td>1662</td>\n",
              "      <td>no</td>\n",
              "      <td>no</td>\n",
              "      <td>cellular</td>\n",
              "      <td>jun</td>\n",
              "      <td>0</td>\n",
              "      <td>nonexistent</td>\n",
              "    </tr>\n",
              "    <tr>\n",
              "      <th>4977</th>\n",
              "      <td>35</td>\n",
              "      <td>technician</td>\n",
              "      <td>3549</td>\n",
              "      <td>yes</td>\n",
              "      <td>no</td>\n",
              "      <td>cellular</td>\n",
              "      <td>aug</td>\n",
              "      <td>0</td>\n",
              "      <td>nonexistent</td>\n",
              "    </tr>\n",
              "    <tr>\n",
              "      <th>5297</th>\n",
              "      <td>30</td>\n",
              "      <td>management</td>\n",
              "      <td>536</td>\n",
              "      <td>no</td>\n",
              "      <td>no</td>\n",
              "      <td>cellular</td>\n",
              "      <td>jul</td>\n",
              "      <td>0</td>\n",
              "      <td>nonexistent</td>\n",
              "    </tr>\n",
              "    <tr>\n",
              "      <th>...</th>\n",
              "      <td>...</td>\n",
              "      <td>...</td>\n",
              "      <td>...</td>\n",
              "      <td>...</td>\n",
              "      <td>...</td>\n",
              "      <td>...</td>\n",
              "      <td>...</td>\n",
              "      <td>...</td>\n",
              "      <td>...</td>\n",
              "    </tr>\n",
              "    <tr>\n",
              "      <th>62</th>\n",
              "      <td>44</td>\n",
              "      <td>blue-collar</td>\n",
              "      <td>2</td>\n",
              "      <td>no</td>\n",
              "      <td>yes</td>\n",
              "      <td>telephone</td>\n",
              "      <td>jul</td>\n",
              "      <td>0</td>\n",
              "      <td>nonexistent</td>\n",
              "    </tr>\n",
              "    <tr>\n",
              "      <th>404</th>\n",
              "      <td>33</td>\n",
              "      <td>blue-collar</td>\n",
              "      <td>863</td>\n",
              "      <td>yes</td>\n",
              "      <td>no</td>\n",
              "      <td>telephone</td>\n",
              "      <td>may</td>\n",
              "      <td>0</td>\n",
              "      <td>nonexistent</td>\n",
              "    </tr>\n",
              "    <tr>\n",
              "      <th>4246</th>\n",
              "      <td>40</td>\n",
              "      <td>admin.</td>\n",
              "      <td>355</td>\n",
              "      <td>yes</td>\n",
              "      <td>no</td>\n",
              "      <td>cellular</td>\n",
              "      <td>apr</td>\n",
              "      <td>138</td>\n",
              "      <td>nonexistent</td>\n",
              "    </tr>\n",
              "    <tr>\n",
              "      <th>642</th>\n",
              "      <td>55</td>\n",
              "      <td>technician</td>\n",
              "      <td>462</td>\n",
              "      <td>no</td>\n",
              "      <td>no</td>\n",
              "      <td>cellular</td>\n",
              "      <td>aug</td>\n",
              "      <td>0</td>\n",
              "      <td>nonexistent</td>\n",
              "    </tr>\n",
              "    <tr>\n",
              "      <th>3479</th>\n",
              "      <td>47</td>\n",
              "      <td>management</td>\n",
              "      <td>255</td>\n",
              "      <td>no</td>\n",
              "      <td>yes</td>\n",
              "      <td>cellular</td>\n",
              "      <td>jul</td>\n",
              "      <td>0</td>\n",
              "      <td>nonexistent</td>\n",
              "    </tr>\n",
              "  </tbody>\n",
              "</table>\n",
              "<p>5274 rows × 9 columns</p>\n",
              "</div>"
            ],
            "text/plain": [
              "      age          job  balance housing loan    contact month  pdays  \\\n",
              "2429   48   management      268     yes   no   cellular   jul      0   \n",
              "3490   59   management      893     yes   no   cellular   apr      0   \n",
              "0      55       admin.     1662      no   no   cellular   jun      0   \n",
              "4977   35   technician     3549     yes   no   cellular   aug      0   \n",
              "5297   30   management      536      no   no   cellular   jul      0   \n",
              "...   ...          ...      ...     ...  ...        ...   ...    ...   \n",
              "62     44  blue-collar        2      no  yes  telephone   jul      0   \n",
              "404    33  blue-collar      863     yes   no  telephone   may      0   \n",
              "4246   40       admin.      355     yes   no   cellular   apr    138   \n",
              "642    55   technician      462      no   no   cellular   aug      0   \n",
              "3479   47   management      255      no  yes   cellular   jul      0   \n",
              "\n",
              "         poutcome  \n",
              "2429  nonexistent  \n",
              "3490  nonexistent  \n",
              "0     nonexistent  \n",
              "4977  nonexistent  \n",
              "5297  nonexistent  \n",
              "...           ...  \n",
              "62    nonexistent  \n",
              "404   nonexistent  \n",
              "4246  nonexistent  \n",
              "642   nonexistent  \n",
              "3479  nonexistent  \n",
              "\n",
              "[5274 rows x 9 columns]"
            ]
          },
          "metadata": {},
          "output_type": "display_data"
        },
        {
          "data": {
            "text/html": [
              "<div>\n",
              "<style scoped>\n",
              "    .dataframe tbody tr th:only-of-type {\n",
              "        vertical-align: middle;\n",
              "    }\n",
              "\n",
              "    .dataframe tbody tr th {\n",
              "        vertical-align: top;\n",
              "    }\n",
              "\n",
              "    .dataframe thead th {\n",
              "        text-align: right;\n",
              "    }\n",
              "</style>\n",
              "<table border=\"1\" class=\"dataframe\">\n",
              "  <thead>\n",
              "    <tr style=\"text-align: right;\">\n",
              "      <th></th>\n",
              "      <th>age</th>\n",
              "      <th>job</th>\n",
              "      <th>balance</th>\n",
              "      <th>housing</th>\n",
              "      <th>loan</th>\n",
              "      <th>contact</th>\n",
              "      <th>month</th>\n",
              "      <th>pdays</th>\n",
              "      <th>poutcome</th>\n",
              "    </tr>\n",
              "  </thead>\n",
              "  <tbody>\n",
              "    <tr>\n",
              "      <th>4498</th>\n",
              "      <td>28</td>\n",
              "      <td>technician</td>\n",
              "      <td>631</td>\n",
              "      <td>no</td>\n",
              "      <td>no</td>\n",
              "      <td>cellular</td>\n",
              "      <td>apr</td>\n",
              "      <td>0</td>\n",
              "      <td>nonexistent</td>\n",
              "    </tr>\n",
              "    <tr>\n",
              "      <th>3129</th>\n",
              "      <td>54</td>\n",
              "      <td>admin.</td>\n",
              "      <td>200</td>\n",
              "      <td>no</td>\n",
              "      <td>no</td>\n",
              "      <td>cellular</td>\n",
              "      <td>jun</td>\n",
              "      <td>0</td>\n",
              "      <td>nonexistent</td>\n",
              "    </tr>\n",
              "    <tr>\n",
              "      <th>780</th>\n",
              "      <td>36</td>\n",
              "      <td>technician</td>\n",
              "      <td>125</td>\n",
              "      <td>yes</td>\n",
              "      <td>no</td>\n",
              "      <td>cellular</td>\n",
              "      <td>may</td>\n",
              "      <td>0</td>\n",
              "      <td>nonexistent</td>\n",
              "    </tr>\n",
              "    <tr>\n",
              "      <th>2377</th>\n",
              "      <td>30</td>\n",
              "      <td>management</td>\n",
              "      <td>135</td>\n",
              "      <td>no</td>\n",
              "      <td>no</td>\n",
              "      <td>cellular</td>\n",
              "      <td>aug</td>\n",
              "      <td>0</td>\n",
              "      <td>nonexistent</td>\n",
              "    </tr>\n",
              "    <tr>\n",
              "      <th>1762</th>\n",
              "      <td>35</td>\n",
              "      <td>blue-collar</td>\n",
              "      <td>625</td>\n",
              "      <td>no</td>\n",
              "      <td>no</td>\n",
              "      <td>cellular</td>\n",
              "      <td>may</td>\n",
              "      <td>0</td>\n",
              "      <td>nonexistent</td>\n",
              "    </tr>\n",
              "    <tr>\n",
              "      <th>...</th>\n",
              "      <td>...</td>\n",
              "      <td>...</td>\n",
              "      <td>...</td>\n",
              "      <td>...</td>\n",
              "      <td>...</td>\n",
              "      <td>...</td>\n",
              "      <td>...</td>\n",
              "      <td>...</td>\n",
              "      <td>...</td>\n",
              "    </tr>\n",
              "    <tr>\n",
              "      <th>1894</th>\n",
              "      <td>35</td>\n",
              "      <td>unemployed</td>\n",
              "      <td>2080</td>\n",
              "      <td>yes</td>\n",
              "      <td>no</td>\n",
              "      <td>telephone</td>\n",
              "      <td>apr</td>\n",
              "      <td>0</td>\n",
              "      <td>nonexistent</td>\n",
              "    </tr>\n",
              "    <tr>\n",
              "      <th>3158</th>\n",
              "      <td>19</td>\n",
              "      <td>student</td>\n",
              "      <td>394</td>\n",
              "      <td>no</td>\n",
              "      <td>no</td>\n",
              "      <td>cellular</td>\n",
              "      <td>apr</td>\n",
              "      <td>0</td>\n",
              "      <td>nonexistent</td>\n",
              "    </tr>\n",
              "    <tr>\n",
              "      <th>6102</th>\n",
              "      <td>37</td>\n",
              "      <td>admin.</td>\n",
              "      <td>245</td>\n",
              "      <td>yes</td>\n",
              "      <td>yes</td>\n",
              "      <td>cellular</td>\n",
              "      <td>may</td>\n",
              "      <td>0</td>\n",
              "      <td>nonexistent</td>\n",
              "    </tr>\n",
              "    <tr>\n",
              "      <th>5484</th>\n",
              "      <td>76</td>\n",
              "      <td>retired</td>\n",
              "      <td>1492</td>\n",
              "      <td>no</td>\n",
              "      <td>no</td>\n",
              "      <td>telephone</td>\n",
              "      <td>nov</td>\n",
              "      <td>0</td>\n",
              "      <td>nonexistent</td>\n",
              "    </tr>\n",
              "    <tr>\n",
              "      <th>5909</th>\n",
              "      <td>25</td>\n",
              "      <td>technician</td>\n",
              "      <td>505</td>\n",
              "      <td>no</td>\n",
              "      <td>yes</td>\n",
              "      <td>cellular</td>\n",
              "      <td>nov</td>\n",
              "      <td>0</td>\n",
              "      <td>nonexistent</td>\n",
              "    </tr>\n",
              "  </tbody>\n",
              "</table>\n",
              "<p>1319 rows × 9 columns</p>\n",
              "</div>"
            ],
            "text/plain": [
              "      age          job  balance housing loan    contact month  pdays  \\\n",
              "4498   28   technician      631      no   no   cellular   apr      0   \n",
              "3129   54       admin.      200      no   no   cellular   jun      0   \n",
              "780    36   technician      125     yes   no   cellular   may      0   \n",
              "2377   30   management      135      no   no   cellular   aug      0   \n",
              "1762   35  blue-collar      625      no   no   cellular   may      0   \n",
              "...   ...          ...      ...     ...  ...        ...   ...    ...   \n",
              "1894   35   unemployed     2080     yes   no  telephone   apr      0   \n",
              "3158   19      student      394      no   no   cellular   apr      0   \n",
              "6102   37       admin.      245     yes  yes   cellular   may      0   \n",
              "5484   76      retired     1492      no   no  telephone   nov      0   \n",
              "5909   25   technician      505      no  yes   cellular   nov      0   \n",
              "\n",
              "         poutcome  \n",
              "4498  nonexistent  \n",
              "3129  nonexistent  \n",
              "780   nonexistent  \n",
              "2377  nonexistent  \n",
              "1762  nonexistent  \n",
              "...           ...  \n",
              "1894  nonexistent  \n",
              "3158  nonexistent  \n",
              "6102  nonexistent  \n",
              "5484  nonexistent  \n",
              "5909  nonexistent  \n",
              "\n",
              "[1319 rows x 9 columns]"
            ]
          },
          "metadata": {},
          "output_type": "display_data"
        },
        {
          "data": {
            "text/plain": [
              "2429    1\n",
              "3490    0\n",
              "0       1\n",
              "4977    0\n",
              "5297    1\n",
              "       ..\n",
              "62      0\n",
              "404     1\n",
              "4246    0\n",
              "642     0\n",
              "3479    1\n",
              "Name: deposit, Length: 5274, dtype: int32"
            ]
          },
          "metadata": {},
          "output_type": "display_data"
        },
        {
          "data": {
            "text/plain": [
              "4498    0\n",
              "3129    1\n",
              "780     1\n",
              "2377    0\n",
              "1762    0\n",
              "       ..\n",
              "1894    0\n",
              "3158    1\n",
              "6102    1\n",
              "5484    1\n",
              "5909    1\n",
              "Name: deposit, Length: 1319, dtype: int32"
            ]
          },
          "metadata": {},
          "output_type": "display_data"
        }
      ],
      "source": [
        "display(X_train,X_test,y_train,y_test)"
      ]
    },
    {
      "cell_type": "markdown",
      "metadata": {
        "id": "sBDAfLIKnTxn"
      },
      "source": [
        "### Data Encoding & Scaling\n",
        "\n",
        "In this section, I will encode the features as follows:\n",
        "- OneHotEncoder = `loan`, `housing`,`contact`,`poutcome`. This is done because the unique values of these features are only 2-3 values. So, it will be more effiecient if I encode these features with OneHotEncoder\n",
        "- BinaryEncoder = `job`,`month`. This is done because their unique vales are more than 3 values. Eventough this feature will hard to explain, but at least it will make the computation faster.\n",
        "- StandardScaler = This scaling feature is used to scale the numeric features. This scaler standardizes a feature by substracting the mean and then scaling to unit variance. The feature `age` and `balance` will be scaled by this."
      ]
    },
    {
      "cell_type": "code",
      "execution_count": 52,
      "metadata": {
        "id": "thbyyou1nTxn",
        "outputId": "dc60d257-308c-4780-f0df-e14d59d6520b"
      },
      "outputs": [
        {
          "data": {
            "text/plain": [
              "ColumnTransformer(remainder='passthrough',\n",
              "                  transformers=[('onehot', OneHotEncoder(),\n",
              "                                 ['loan', 'housing', 'contact', 'poutcome']),\n",
              "                                ('binary', BinaryEncoder(), ['job', 'month'])])"
            ]
          },
          "execution_count": 52,
          "metadata": {},
          "output_type": "execute_result"
        }
      ],
      "source": [
        "data_transformer = ColumnTransformer([\n",
        "    ('onehot',OneHotEncoder(),['loan','housing','contact','poutcome']),\n",
        "    ('binary',BinaryEncoder(),['job','month'])\n",
        "],remainder='passthrough')\n",
        "data_transformer"
      ]
    },
    {
      "cell_type": "code",
      "execution_count": 53,
      "metadata": {
        "id": "WaTlo1RXnTxo"
      },
      "outputs": [],
      "source": [
        "standard = StandardScaler()"
      ]
    },
    {
      "cell_type": "markdown",
      "metadata": {
        "id": "o5YDEcYQnTxo"
      },
      "source": [
        "### Define Benchmark Model\n",
        "\n",
        "To obtain the best model, we will compare these classification models to know what model perform the best. There are KNN, Logistic Regression, Decision Tree, Random Forest, Ada Boost, Gradient Boost, and XGB."
      ]
    },
    {
      "cell_type": "code",
      "execution_count": 65,
      "metadata": {
        "id": "XuzH0YdjnTxo"
      },
      "outputs": [],
      "source": [
        "knn = KNeighborsClassifier()\n",
        "logreg = LogisticRegression(random_state=42)\n",
        "tree = DecisionTreeClassifier(random_state=42)\n",
        "rf = RandomForestClassifier(random_state=42)\n",
        "ada = AdaBoostClassifier(random_state=42)\n",
        "gradient = GradientBoostingClassifier(random_state=42)\n",
        "xgb = XGBClassifier(random_state=42)"
      ]
    },
    {
      "cell_type": "code",
      "execution_count": 57,
      "metadata": {
        "id": "X0DqigxYnTxp"
      },
      "outputs": [],
      "source": [
        "# !pip install lightgbm"
      ]
    },
    {
      "cell_type": "markdown",
      "metadata": {
        "id": "eUY99eHCnTxp"
      },
      "source": [
        "**Cross Validation**\n",
        "\n",
        "Cross Validation is performed to avoid overfitting of a model and determine what models have good performances based on the mean and standard value. Cross Validation is a resampling method that uses different portions of the data to test and train a model on different iterations.\n",
        "\n",
        "A good model will give a high mean and low standard deviation, and the metrics scores are consistent."
      ]
    },
    {
      "cell_type": "code",
      "execution_count": 80,
      "metadata": {},
      "outputs": [
        {
          "name": "stdout",
          "output_type": "stream",
          "text": [
            "[0.71535382 0.68117562 0.70158103 0.71249325 0.69632455] KNeighborsClassifier()\n",
            "[0.72992217 0.71091888 0.7449477  0.73727093 0.71926996] LogisticRegression(random_state=42)\n",
            "[0.59780629 0.57271395 0.63158492 0.60719532 0.62212303] DecisionTreeClassifier(random_state=42)\n",
            "[0.74325039 0.71938199 0.7293768  0.72543834 0.72671644] RandomForestClassifier(random_state=42)\n",
            "[0.73130809 0.71197722 0.73162847 0.73780018 0.73601327] AdaBoostClassifier(random_state=42)\n",
            "[0.74192927 0.74212726 0.74917385 0.74987939 0.75232556] GradientBoostingClassifier(random_state=42)\n",
            "[0.73651159 0.70681872 0.72408871 0.7209649  0.72474346] XGBClassifier(base_score=0.5, booster='gbtree', callbacks=None,\n",
            "              colsample_bylevel=1, colsample_bynode=1, colsample_bytree=1,\n",
            "              early_stopping_rounds=None, enable_categorical=False,\n",
            "              eval_metric=None, gamma=0, gpu_id=-1, grow_policy='depthwise',\n",
            "              importance_type=None, interaction_constraints='',\n",
            "              learning_rate=0.300000012, max_bin=256, max_cat_to_onehot=4,\n",
            "              max_delta_step=0, max_depth=6, max_leaves=0, min_child_weight=1,\n",
            "              missing=nan, monotone_constraints='()', n_estimators=100,\n",
            "              n_jobs=0, num_parallel_tree=1, predictor='auto', random_state=42,\n",
            "              reg_alpha=0, reg_lambda=1, ...)\n"
          ]
        }
      ],
      "source": [
        "model = [knn, logreg, tree, rf, ada, gradient, xgb]\n",
        "\n",
        "cv_mean_roc_auc = []\n",
        "cv_std_roc_auc = []\n",
        "\n",
        "for i in model:\n",
        "\n",
        "    pipe_model = Pipeline([\n",
        "        ('transform',data_transformer),\n",
        "        ('scaling',standard),\n",
        "        ('model',i)\n",
        "    ])\n",
        "\n",
        "    model_cv = cross_val_score(\n",
        "        estimator=pipe_model,\n",
        "        X = X_train,\n",
        "        y = y_train,\n",
        "        cv = 5,\n",
        "        scoring='roc_auc'\n",
        "        )\n",
        "\n",
        "    print(model_cv,i)\n",
        "    cv_mean_roc_auc.append(model_cv.mean())\n",
        "    cv_std_roc_auc.append(model_cv.std())"
      ]
    },
    {
      "cell_type": "code",
      "execution_count": 69,
      "metadata": {
        "id": "k0M0gfDunTxr",
        "outputId": "93b00fe7-31ea-481a-dede-c176f77d0bd7"
      },
      "outputs": [],
      "source": [
        "train_benchmark_roc_auc  = pd.DataFrame({\n",
        "    'models':['KNN','Logreg','Decision Tree','Random Forest','Ada Boost','Gradient Boost','XGB'],\n",
        "    'mean_roc_auc':cv_mean_roc_auc,\n",
        "    'std_roc_auc':cv_std_roc_auc\n",
        "})"
      ]
    },
    {
      "cell_type": "code",
      "execution_count": 128,
      "metadata": {},
      "outputs": [
        {
          "name": "stdout",
          "output_type": "stream",
          "text": [
            "Train Benchmark Performance Score\n"
          ]
        },
        {
          "data": {
            "text/html": [
              "<div>\n",
              "<style scoped>\n",
              "    .dataframe tbody tr th:only-of-type {\n",
              "        vertical-align: middle;\n",
              "    }\n",
              "\n",
              "    .dataframe tbody tr th {\n",
              "        vertical-align: top;\n",
              "    }\n",
              "\n",
              "    .dataframe thead th {\n",
              "        text-align: right;\n",
              "    }\n",
              "</style>\n",
              "<table border=\"1\" class=\"dataframe\">\n",
              "  <thead>\n",
              "    <tr style=\"text-align: right;\">\n",
              "      <th></th>\n",
              "      <th>models</th>\n",
              "      <th>mean_roc_auc</th>\n",
              "      <th>std_roc_auc</th>\n",
              "    </tr>\n",
              "  </thead>\n",
              "  <tbody>\n",
              "    <tr>\n",
              "      <th>0</th>\n",
              "      <td>KNN</td>\n",
              "      <td>0.701386</td>\n",
              "      <td>0.012269</td>\n",
              "    </tr>\n",
              "    <tr>\n",
              "      <th>1</th>\n",
              "      <td>Logreg</td>\n",
              "      <td>0.728466</td>\n",
              "      <td>0.012196</td>\n",
              "    </tr>\n",
              "    <tr>\n",
              "      <th>2</th>\n",
              "      <td>Decision Tree</td>\n",
              "      <td>0.606285</td>\n",
              "      <td>0.020448</td>\n",
              "    </tr>\n",
              "    <tr>\n",
              "      <th>3</th>\n",
              "      <td>Random Forest</td>\n",
              "      <td>0.728833</td>\n",
              "      <td>0.007918</td>\n",
              "    </tr>\n",
              "    <tr>\n",
              "      <th>4</th>\n",
              "      <td>Ada Boost</td>\n",
              "      <td>0.729745</td>\n",
              "      <td>0.009229</td>\n",
              "    </tr>\n",
              "    <tr>\n",
              "      <th>5</th>\n",
              "      <td>Gradient Boost</td>\n",
              "      <td>0.747087</td>\n",
              "      <td>0.004261</td>\n",
              "    </tr>\n",
              "    <tr>\n",
              "      <th>6</th>\n",
              "      <td>XGB</td>\n",
              "      <td>0.722625</td>\n",
              "      <td>0.009509</td>\n",
              "    </tr>\n",
              "  </tbody>\n",
              "</table>\n",
              "</div>"
            ],
            "text/plain": [
              "           models  mean_roc_auc  std_roc_auc\n",
              "0             KNN      0.701386     0.012269\n",
              "1          Logreg      0.728466     0.012196\n",
              "2   Decision Tree      0.606285     0.020448\n",
              "3   Random Forest      0.728833     0.007918\n",
              "4       Ada Boost      0.729745     0.009229\n",
              "5  Gradient Boost      0.747087     0.004261\n",
              "6             XGB      0.722625     0.009509"
            ]
          },
          "metadata": {},
          "output_type": "display_data"
        }
      ],
      "source": [
        "print('Train Benchmark Performance Score')\n",
        "display(train_benchmark_roc_auc)"
      ]
    },
    {
      "cell_type": "markdown",
      "metadata": {
        "id": "yuWCsIU4nTxr"
      },
      "source": [
        "### Predict to test set"
      ]
    },
    {
      "cell_type": "code",
      "execution_count": 129,
      "metadata": {
        "id": "rEM1y0CWnTxr",
        "outputId": "19288b8d-5633-4ad1-d027-66bb73791b84"
      },
      "outputs": [
        {
          "name": "stdout",
          "output_type": "stream",
          "text": [
            "Test Benchmark Performance Model\n"
          ]
        },
        {
          "data": {
            "text/html": [
              "<div>\n",
              "<style scoped>\n",
              "    .dataframe tbody tr th:only-of-type {\n",
              "        vertical-align: middle;\n",
              "    }\n",
              "\n",
              "    .dataframe tbody tr th {\n",
              "        vertical-align: top;\n",
              "    }\n",
              "\n",
              "    .dataframe thead th {\n",
              "        text-align: right;\n",
              "    }\n",
              "</style>\n",
              "<table border=\"1\" class=\"dataframe\">\n",
              "  <thead>\n",
              "    <tr style=\"text-align: right;\">\n",
              "      <th></th>\n",
              "      <th>model</th>\n",
              "      <th>roc-auc score</th>\n",
              "    </tr>\n",
              "  </thead>\n",
              "  <tbody>\n",
              "    <tr>\n",
              "      <th>0</th>\n",
              "      <td>KNN</td>\n",
              "      <td>0.699620</td>\n",
              "    </tr>\n",
              "    <tr>\n",
              "      <th>1</th>\n",
              "      <td>Logreg</td>\n",
              "      <td>0.704710</td>\n",
              "    </tr>\n",
              "    <tr>\n",
              "      <th>2</th>\n",
              "      <td>Decision Tree</td>\n",
              "      <td>0.606981</td>\n",
              "    </tr>\n",
              "    <tr>\n",
              "      <th>3</th>\n",
              "      <td>Random Forest</td>\n",
              "      <td>0.721899</td>\n",
              "    </tr>\n",
              "    <tr>\n",
              "      <th>4</th>\n",
              "      <td>Ada Boost</td>\n",
              "      <td>0.718752</td>\n",
              "    </tr>\n",
              "    <tr>\n",
              "      <th>5</th>\n",
              "      <td>Gradient Boost</td>\n",
              "      <td>0.739863</td>\n",
              "    </tr>\n",
              "    <tr>\n",
              "      <th>6</th>\n",
              "      <td>XGB</td>\n",
              "      <td>0.707730</td>\n",
              "    </tr>\n",
              "  </tbody>\n",
              "</table>\n",
              "</div>"
            ],
            "text/plain": [
              "            model  roc-auc score\n",
              "0             KNN       0.699620\n",
              "1          Logreg       0.704710\n",
              "2   Decision Tree       0.606981\n",
              "3   Random Forest       0.721899\n",
              "4       Ada Boost       0.718752\n",
              "5  Gradient Boost       0.739863\n",
              "6             XGB       0.707730"
            ]
          },
          "execution_count": 129,
          "metadata": {},
          "output_type": "execute_result"
        }
      ],
      "source": [
        "# from sklearn.metrics import roc_auc_score\n",
        "model = [knn, logreg, tree, rf, ada, gradient, xgb]\n",
        "precision_scores_list = []\n",
        "roc_auc_list = []\n",
        "\n",
        "for i in model :\n",
        "    pipe_model = Pipeline([\n",
        "        ('transform',data_transformer),\n",
        "        ('scaling',standard),\n",
        "        ('model',i)\n",
        "    ])\n",
        "\n",
        "    pipe_model.fit(X_train,y_train)\n",
        "    # y_pred_benchmark=pipe_model.predict(X_test)\n",
        "    y_pred_benchmark_proba = pipe_model.predict_proba(X_test)[:,1]\n",
        "\n",
        "    # precision_scores_list.append(precision_score(y_test,y_pred_benchmark))\n",
        "    roc_auc_list.append(roc_auc_score(y_test,y_pred_benchmark_proba))\n",
        "test_benchmark  = pd.DataFrame({\n",
        "    'model':['KNN','Logreg','Decision Tree','Random Forest','Ada Boost','Gradient Boost','XGB'],\n",
        "    'roc-auc score':roc_auc_list\n",
        "    \n",
        "})\n",
        "print('Test Benchmark Performance Model')\n",
        "test_benchmark"
      ]
    },
    {
      "cell_type": "markdown",
      "metadata": {},
      "source": [
        "From the cross validation on 7 models, we have our top models based on ROC-AUC score and precision score: Gradient Boost and Ada Boost. Therefore, we are going to choose Ranfom Forest, Gradient Boost and Ada Boost to enhance their performance by tuning then we also calculate the cost based on FP and FN score."
      ]
    },
    {
      "cell_type": "markdown",
      "metadata": {},
      "source": [
        "## Cost Marketing Calculation\n",
        "\n",
        "Before we are doing hyperparameter tuning and predict to the new tuned models, we need to calculate the marketing cost if no model applied to the case. To do that, we simulate two cases: \n",
        "- if customers where considered subscribed to the deposit product but actually don't subscribe to the deposit product\n",
        "- if customers where considered not subscribed to the deposit product but actually subscribe to the deposit product\n",
        "\n",
        "Then, we calculate the cost of FP and FN based the information mentioned and compare which total cost will more costly. We want to prove that our stance about the first case will more costly. To do this, we combine the calculation from [[2]](https://github.com/goncaloggomes/cost-prediction/blob/master/ML_fullproject_bankmktcampaign.ipynb) and [[3]](https://www.kdnuggets.com/2018/10/confusion-matrices-quantify-cost-being-wrong.html) and modify them based on our dataset."
      ]
    },
    {
      "cell_type": "code",
      "execution_count": 72,
      "metadata": {},
      "outputs": [
        {
          "data": {
            "text/plain": [
              "array([1., 1., 1., ..., 1., 1., 1.])"
            ]
          },
          "execution_count": 72,
          "metadata": {},
          "output_type": "execute_result"
        }
      ],
      "source": [
        "# if customers where considered subscribed to the deposit product but actually don't subscribe to the deposit product\n",
        "y_pred_all_good = np.ones(y_test.shape)\n",
        "y_pred_all_good"
      ]
    },
    {
      "cell_type": "code",
      "execution_count": 137,
      "metadata": {},
      "outputs": [
        {
          "name": "stdout",
          "output_type": "stream",
          "text": [
            "The marketing cost before model is applied to our dataset is 1041.7 EUR average for each customer if customers where considered subscribed to the deposit product but actually don't subscribe to the deposit product\n"
          ]
        }
      ],
      "source": [
        "tn,fp,fn,tp = confusion_matrix(y_test,y_pred_all_good).ravel()\n",
        "fp_before = fp/y_test.shape[0]\n",
        "fn_before = fn/y_test.shape[0]\n",
        "cost_before = fp_before*2000+fn_before*500\n",
        "print(f\"The marketing cost before model is applied to our dataset is {round(cost_before,2)} EUR average for each customer if customers where considered subscribed to the deposit product but actually don't subscribe to the deposit product\")"
      ]
    },
    {
      "cell_type": "code",
      "execution_count": 159,
      "metadata": {},
      "outputs": [
        {
          "data": {
            "image/png": "[encoded data removed]",
            "text/plain": [
              "<Figure size 432x288 with 2 Axes>"
            ]
          },
          "metadata": {
            "needs_background": "light"
          },
          "output_type": "display_data"
        }
      ],
      "source": [
        "sns.heatmap(confusion_matrix(y_test,y_pred_all_good),annot=True,fmt='g')\n",
        "plt.title('Confusion Matrix of Baseline Cost')\n",
        "plt.xlabel('Prediction')\n",
        "plt.ylabel('Actual');"
      ]
    },
    {
      "cell_type": "code",
      "execution_count": 74,
      "metadata": {},
      "outputs": [
        {
          "data": {
            "text/plain": [
              "array([0., 0., 0., ..., 0., 0., 0.])"
            ]
          },
          "execution_count": 74,
          "metadata": {},
          "output_type": "execute_result"
        }
      ],
      "source": [
        "#if customers where considered not subscribed to the deposit product but actually subscribe to the deposit product\n",
        "\n",
        "y_pred_all_bad = np.zeros(y_test.shape)\n",
        "y_pred_all_bad"
      ]
    },
    {
      "cell_type": "code",
      "execution_count": 130,
      "metadata": {},
      "outputs": [
        {
          "name": "stdout",
          "output_type": "stream",
          "text": [
            "The cost before model is applied to our dataset is 239.58 EUR average per customer if customers where considered not subscribed to the deposit product but actually subscribe to the deposit product\n"
          ]
        }
      ],
      "source": [
        "tn,fp,fn,tp = confusion_matrix(y_test,y_pred_all_bad).ravel()\n",
        "fp_bad = fp/y_test.shape[0]\n",
        "fn_bad = fn/y_test.shape[0]\n",
        "cost_before = fp_bad*2000+fn_bad*500\n",
        "print(f\"The cost before model is applied to our dataset is {round(cost_before,2)} EUR average per customer if customers where considered not subscribed to the deposit product but actually subscribe to the deposit product\")"
      ]
    },
    {
      "cell_type": "markdown",
      "metadata": {},
      "source": [
        "From our observation below, we know that customers where considered subscribed to the deposit product but actually don't subscribe to the deposit product will more expensive. It proves our problem statement. Next step is we will look for the models who can lower the False Positive numbers so that we can find the most efficient marketing cost."
      ]
    },
    {
      "cell_type": "markdown",
      "metadata": {
        "id": "dTZdU8MenTxt"
      },
      "source": [
        "## Hyperparameter Tuning\n",
        "\n",
        "Hyperparameter tuning is done to enhance our model performance. "
      ]
    },
    {
      "cell_type": "markdown",
      "metadata": {},
      "source": [
        "### Function for hyperparameter tuning model"
      ]
    },
    {
      "cell_type": "code",
      "execution_count": 83,
      "metadata": {},
      "outputs": [],
      "source": [
        "def random_search(model, parameter):\n",
        "    print(f\"Hyperparameter tuning process\")\n",
        "    random_search = RandomizedSearchCV(model,\n",
        "                    param_distributions=parameter, \n",
        "                    cv=5, \n",
        "                    scoring='roc_auc',\n",
        "                    n_iter=100,\n",
        "                    random_state=42,\n",
        "                    n_jobs=-1,\n",
        "                    error_score='raise'\n",
        "                    )\n",
        "                    \n",
        "    random_search.fit(X_train,y_train)\n",
        "\n",
        "    print(f'Best ROC-AUC score:{random_search.best_score_}')\n",
        "    print(f'Best Parameters:{random_search.best_params_}')\n",
        "\n",
        "    return random_search.best_estimator_\n"
      ]
    },
    {
      "cell_type": "markdown",
      "metadata": {
        "id": "bYCFX7nOnTxu"
      },
      "source": [
        "### Function for predicting to test set and cost calculation"
      ]
    },
    {
      "cell_type": "code",
      "execution_count": 142,
      "metadata": {},
      "outputs": [],
      "source": [
        "def prediction_cost_calc(model):\n",
        "    y_pred_tuned = model.predict(X_test)\n",
        "    y_pred_tuned_proba = model.predict_proba(X_test)[:,1]\n",
        "    # accuracy_score_test = accuracy_score(y_test,y_pred_tuned)\n",
        "    roc_auc_score_test_2 = roc_auc_score(y_test,y_pred_tuned_proba)\n",
        "    precision_score_test = precision_score(y_test,y_pred_tuned)\n",
        "    # print(f\"The best Precision score: {precision_score_test}\")\n",
        "    print(f\"The best ROC-AUC score: {roc_auc_score_test_2}\")\n",
        "    \n",
        "    print(classification_report(y_test,y_pred_tuned))\n",
        "\n",
        "    sns.heatmap(confusion_matrix(y_test,y_pred_tuned),annot=True,fmt='g')\n",
        "    plt.title('Confusion Matrix')\n",
        "    plt.xlabel('Prediction')\n",
        "    plt.ylabel('Actual')\n",
        "\n",
        "    tn,fp,fn,tp = confusion_matrix(y_test,y_pred_tuned).ravel()\n",
        "    fp = fp/y_test.shape[0]\n",
        "    fn = fn/y_test.shape[0]\n",
        "    # fp_reduction = fp_good-fp\n",
        "    # fn_reduction = fn_good-fn\n",
        "    cost_model = fn*500+fp*2000\n",
        "    # cost_reduction = 500*fn_reduction+fp_reduction*2000\n",
        "    cost_reduction = cost_before-cost_model\n",
        "    diff = round(cost_reduction/cost_before*100,2)\n",
        "    print(f\"the marketing cost by model is {round(cost_model,2)} EUR average per customer\")\n",
        "    print(f\"the cost difference by model is {round(cost_reduction,2)} EUR average savings per customer\")\n",
        "    print(f\"Cost Reduction from the cost without model is {diff}%\")\n",
        "    # return roc_auc_score_test_2\n"
      ]
    },
    {
      "cell_type": "markdown",
      "metadata": {},
      "source": [
        "**Random Forest**\n",
        "\n",
        "Random Forest is an ensemble model that built from many decision tree models. For the classification cases, the output of this model is the class selected by most trees (majority voting). This model avoids the overfitting which is usually done by one decision tree. The technique of this model is Bagging. "
      ]
    },
    {
      "cell_type": "code",
      "execution_count": 133,
      "metadata": {},
      "outputs": [],
      "source": [
        "rf_parameter ={\n",
        "    'method__bootstrap': [True, False],\n",
        "    'method__max_depth': [10, 20, 30, 40, 50, 60, 70, 80, 90, 100, None],\n",
        "    'method__min_samples_leaf': [1, 2, 4],\n",
        "    'method__min_samples_split': [2, 5, 10],\n",
        "    'method__n_estimators': np.arange(100,500,100),\n",
        "    'scaler':[standard]\n",
        "}\n",
        "\n",
        "# skfold = StratifiedKFold()\n",
        "\n",
        "pipe_model_rf = Pipeline([\n",
        "        ('transform',data_transformer),\n",
        "        ('scaler',standard),\n",
        "        ('method',rf)])"
      ]
    },
    {
      "cell_type": "code",
      "execution_count": 99,
      "metadata": {},
      "outputs": [
        {
          "name": "stdout",
          "output_type": "stream",
          "text": [
            "Hyperparameter tuning process\n",
            "Best ROC-AUC score:0.7547888602402649\n",
            "Best Parameters:{'scaler': StandardScaler(), 'method__n_estimators': 200, 'method__min_samples_split': 10, 'method__min_samples_leaf': 4, 'method__max_depth': 60, 'method__bootstrap': True}\n"
          ]
        }
      ],
      "source": [
        "rf_random = random_search(pipe_model_rf,rf_parameter)"
      ]
    },
    {
      "cell_type": "code",
      "execution_count": 143,
      "metadata": {},
      "outputs": [
        {
          "name": "stdout",
          "output_type": "stream",
          "text": [
            "The best ROC-AUC score: 0.7437538002321596\n",
            "              precision    recall  f1-score   support\n",
            "\n",
            "           0       0.67      0.81      0.73       687\n",
            "           1       0.73      0.57      0.64       632\n",
            "\n",
            "    accuracy                           0.69      1319\n",
            "   macro avg       0.70      0.69      0.69      1319\n",
            "weighted avg       0.70      0.69      0.69      1319\n",
            "\n",
            "the marketing cost by model is 304.02 EUR average per customer\n",
            "the cost difference by model is 737.68 EUR average savings per customer\n",
            "Cost Reduction from the cost without model is 70.82%\n"
          ]
        },
        {
          "data": {
            "image/png": "[encoded data removed]",
            "text/plain": [
              "<Figure size 432x288 with 2 Axes>"
            ]
          },
          "metadata": {
            "needs_background": "light"
          },
          "output_type": "display_data"
        }
      ],
      "source": [
        "prediction_cost_calc(rf_random)"
      ]
    },
    {
      "cell_type": "markdown",
      "metadata": {},
      "source": [
        "**Ada Boost**\n",
        "\n",
        "AdaBoost is an ensemble model that combines weak learner. The most common algorithm used with AdaBoost is decision trees with one level (one split). These trees are also called Decision Stumps. The way of this algorithm works is building a model and gives weights to all the data points. Then, it assigns higher weights to points that are wrongly classified. Now, all the points which have higher weights are given more importance in the next model. It will keep training models untul and unless a low error is achieved. This model can be susceptible to the overfitting than other learning algorithms."
      ]
    },
    {
      "cell_type": "code",
      "execution_count": 85,
      "metadata": {},
      "outputs": [],
      "source": [
        "### hyperparameter tuning : Adaboost\n",
        "pipe_model_ada = Pipeline([\n",
        "        ('transform',data_transformer),\n",
        "        ('scaler',standard),\n",
        "        ('method',ada)])\n",
        "        \n",
        "ada_parameter ={\n",
        "    'method__n_estimators': np.arange(2,102,2),\n",
        "    'method__learning_rate': [0.0001,0.001,0.01,0.1,1],\n",
        "    'scaler':[standard]\n",
        "}"
      ]
    },
    {
      "cell_type": "code",
      "execution_count": 86,
      "metadata": {},
      "outputs": [
        {
          "name": "stdout",
          "output_type": "stream",
          "text": [
            "Hyperparameter tuning process\n",
            "Best ROC-AUC score:0.7321735490156287\n",
            "Best Parameters:{'scaler': StandardScaler(), 'method__n_estimators': 96, 'method__learning_rate': 0.1}\n"
          ]
        }
      ],
      "source": [
        "ada_random = random_search(pipe_model_ada,ada_parameter)"
      ]
    },
    {
      "cell_type": "code",
      "execution_count": 144,
      "metadata": {},
      "outputs": [
        {
          "name": "stdout",
          "output_type": "stream",
          "text": [
            "The best ROC-AUC score: 0.72823733716581\n",
            "              precision    recall  f1-score   support\n",
            "\n",
            "           0       0.65      0.81      0.73       687\n",
            "           1       0.72      0.53      0.61       632\n",
            "\n",
            "    accuracy                           0.68      1319\n",
            "   macro avg       0.69      0.67      0.67      1319\n",
            "weighted avg       0.69      0.68      0.67      1319\n",
            "\n",
            "the marketing cost by model is 306.29 EUR average per customer\n",
            "the cost difference by model is 735.41 EUR average savings per customer\n",
            "Cost Reduction from the cost without model is 70.6%\n"
          ]
        },
        {
          "data": {
            "image/png": "[encoded data removed]",
            "text/plain": [
              "<Figure size 432x288 with 2 Axes>"
            ]
          },
          "metadata": {
            "needs_background": "light"
          },
          "output_type": "display_data"
        }
      ],
      "source": [
        "prediction_cost_calc(ada_random)"
      ]
    },
    {
      "cell_type": "markdown",
      "metadata": {},
      "source": [
        "**Gradient Boost**\n",
        "\n",
        "Gradient Boost is an ensemble method that combines many weak learners to come up with one strong learner. The weak learners are individual decision trees, just like Ada Boost. The algorithm works by fitting the residual/wrong samples from the previous step so as the model improves. The final model aggregates the result of each step and thus a strong learner is achieved.\n"
      ]
    },
    {
      "cell_type": "code",
      "execution_count": 90,
      "metadata": {},
      "outputs": [],
      "source": [
        "pipe_model_gradient= Pipeline([\n",
        "        ('transform',data_transformer),\n",
        "        ('scaler',standard),\n",
        "        ('method',gradient)])\n",
        "\n",
        "gradient_parameter ={\n",
        "    'method__n_estimators':np.arange(100,500,100), \n",
        "    'method__learning_rate': [0.0001,0.001,0.01, 0.1, 1.0],\n",
        "    'method__max_depth':np.arange(5,16,2),\n",
        "    'method__min_samples_split':np.arange(200,1001,200),\n",
        "    'method__min_samples_leaf':np.arange(30,71,10),\n",
        "    'scaler':[standard]\n",
        "}\n"
      ]
    },
    {
      "cell_type": "code",
      "execution_count": 145,
      "metadata": {},
      "outputs": [
        {
          "name": "stdout",
          "output_type": "stream",
          "text": [
            "Hyperparameter tuning process\n",
            "Best ROC-AUC score:0.7511258979354815\n",
            "Best Parameters:{'scaler': StandardScaler(), 'method__n_estimators': 400, 'method__min_samples_split': 200, 'method__min_samples_leaf': 70, 'method__max_depth': 11, 'method__learning_rate': 0.01}\n"
          ]
        }
      ],
      "source": [
        "gradient_random = random_search(pipe_model_gradient,gradient_parameter)"
      ]
    },
    {
      "cell_type": "code",
      "execution_count": 141,
      "metadata": {},
      "outputs": [
        {
          "name": "stdout",
          "output_type": "stream",
          "text": [
            "The best ROC-AUC score: 0.7391820057855656\n",
            "              precision    recall  f1-score   support\n",
            "\n",
            "           0       0.67      0.84      0.74       687\n",
            "           1       0.76      0.55      0.64       632\n",
            "\n",
            "    accuracy                           0.70      1319\n",
            "   macro avg       0.71      0.69      0.69      1319\n",
            "weighted avg       0.71      0.70      0.69      1319\n",
            "\n",
            "the marketing cost by model is 276.72 EUR average savings per customer\n",
            "the cost difference by model is 764.97 EUR average savings per customer\n",
            "Cost Reduction from the cost without model is 73.44%\n"
          ]
        },
        {
          "data": {
            "image/png": "[encoded data removed]",
            "text/plain": [
              "<Figure size 432x288 with 2 Axes>"
            ]
          },
          "metadata": {
            "needs_background": "light"
          },
          "output_type": "display_data"
        }
      ],
      "source": [
        "prediction_cost_calc(gradient_random)"
      ]
    },
    {
      "cell_type": "markdown",
      "metadata": {},
      "source": [
        "**ROC-AUC**\n",
        "\n",
        "ROC-AUC is an evaluation metric for binary classification problems. It is a probability curve that plots the TPR (True Positive Rate) against FPR (False Positive Rate) at various threshold. The Area Under the Curve is the measure of the abality of a classifier to distinguish between classes and is used as a summary of the ROC Curve."
      ]
    },
    {
      "cell_type": "code",
      "execution_count": 160,
      "metadata": {},
      "outputs": [
        {
          "data": {
            "image/png": "[encoded data removed]",
            "text/plain": [
              "<Figure size 432x288 with 1 Axes>"
            ]
          },
          "metadata": {
            "needs_background": "light"
          },
          "output_type": "display_data"
        }
      ],
      "source": [
        "#set up plotting area\n",
        "plt.figure(0).clf()\n",
        "\n",
        "#fit random forest model and plot ROC curve\n",
        "model = rf_random\n",
        "model.fit(X_train, y_train)\n",
        "y_pred = model.predict_proba(X_test)[:, 1]\n",
        "fpr, tpr, _ = roc_curve(y_test, y_pred)\n",
        "auc = round(roc_auc_score(y_test, y_pred), 4)\n",
        "plt.plot(fpr,tpr,label=\"Random Forest, AUC=\"+str(auc))\n",
        "\n",
        "#fit ada boost model and plot ROC curve\n",
        "model = ada_random\n",
        "model.fit(X_train, y_train)\n",
        "y_pred = model.predict_proba(X_test)[:, 1]\n",
        "fpr, tpr, _ = roc_curve(y_test, y_pred)\n",
        "auc = round(roc_auc_score(y_test, y_pred), 4)\n",
        "plt.plot(fpr,tpr,label=\"Ada Boosting, AUC=\"+str(auc))\n",
        "\n",
        "#fit gradient boost model and plot ROC curve\n",
        "model = gradient_random\n",
        "model.fit(X_train, y_train)\n",
        "y_pred = model.predict_proba(X_test)[:, 1]\n",
        "fpr, tpr, _ = roc_curve(y_test, y_pred)\n",
        "auc = round(roc_auc_score(y_test, y_pred), 4)\n",
        "plt.plot(fpr,tpr,label=\"Gradient Boosting, AUC=\"+str(auc))\n",
        "\n",
        "#add legend\n",
        "plt.legend()\n",
        "plt.xlabel('FPR')\n",
        "plt.ylabel('TPR')\n",
        "\n",
        "plt.title('ROC-AUC Curves')\n",
        "plt.show()"
      ]
    },
    {
      "cell_type": "code",
      "execution_count": 146,
      "metadata": {},
      "outputs": [
        {
          "name": "stdout",
          "output_type": "stream",
          "text": [
            "Total cost average before model applied: 1041.7 EUR\n"
          ]
        },
        {
          "data": {
            "text/html": [
              "<div>\n",
              "<style scoped>\n",
              "    .dataframe tbody tr th:only-of-type {\n",
              "        vertical-align: middle;\n",
              "    }\n",
              "\n",
              "    .dataframe tbody tr th {\n",
              "        vertical-align: top;\n",
              "    }\n",
              "\n",
              "    .dataframe thead th {\n",
              "        text-align: right;\n",
              "    }\n",
              "</style>\n",
              "<table border=\"1\" class=\"dataframe\">\n",
              "  <thead>\n",
              "    <tr style=\"text-align: right;\">\n",
              "      <th></th>\n",
              "      <th>Model</th>\n",
              "      <th>Total Cost Avg (EUR)</th>\n",
              "      <th>Cost Saving avg (EUR)</th>\n",
              "      <th>Cost Reduction (%)</th>\n",
              "      <th>ROC-AUC score (%)</th>\n",
              "    </tr>\n",
              "  </thead>\n",
              "  <tbody>\n",
              "    <tr>\n",
              "      <th>0</th>\n",
              "      <td>Random Forest</td>\n",
              "      <td>304.02</td>\n",
              "      <td>737.68</td>\n",
              "      <td>70.82</td>\n",
              "      <td>74.00</td>\n",
              "    </tr>\n",
              "    <tr>\n",
              "      <th>1</th>\n",
              "      <td>Ada Boost</td>\n",
              "      <td>306.29</td>\n",
              "      <td>735.41</td>\n",
              "      <td>70.60</td>\n",
              "      <td>72.82</td>\n",
              "    </tr>\n",
              "    <tr>\n",
              "      <th>2</th>\n",
              "      <td>Gradient Boost</td>\n",
              "      <td>276.72</td>\n",
              "      <td>764.97</td>\n",
              "      <td>73.44</td>\n",
              "      <td>73.90</td>\n",
              "    </tr>\n",
              "  </tbody>\n",
              "</table>\n",
              "</div>"
            ],
            "text/plain": [
              "            Model  Total Cost Avg (EUR)  Cost Saving avg (EUR)  \\\n",
              "0   Random Forest                304.02                 737.68   \n",
              "1       Ada Boost                306.29                 735.41   \n",
              "2  Gradient Boost                276.72                 764.97   \n",
              "\n",
              "   Cost Reduction (%)  ROC-AUC score (%)  \n",
              "0               70.82              74.00  \n",
              "1               70.60              72.82  \n",
              "2               73.44              73.90  "
            ]
          },
          "execution_count": 146,
          "metadata": {},
          "output_type": "execute_result"
        }
      ],
      "source": [
        "print(f\"Total cost average before model applied: {round(cost_before,2)} EUR\")\n",
        "pd.DataFrame({\n",
        "    'Model':['Random Forest','Ada Boost','Gradient Boost'],\n",
        "    'Total Cost Avg (EUR)':[304.02,306.29,276.72],\n",
        "    'Cost Saving avg (EUR)':[737.68,735.41,764.97],\n",
        "    'Cost Reduction (%)': [70.82,70.6,73.44],\n",
        "    'ROC-AUC score (%)':[0.74*100,0.7282*100,0.739*100]\n",
        "})"
      ]
    },
    {
      "cell_type": "markdown",
      "metadata": {},
      "source": [
        "From the hyperparameter tuning and prediction of marketing cost calculation above, we got Gradient Boost as our best model to predict the cost effieciency. Gradient Boost shows that its total cost is the lowest with the highest cost saving. It seems like best ROC-AUC score is Random Forest model, but the cost calculation from the model is not as good as Gradient Boost. In this case, we try to lower the FP numbers and we know that it is better to use Precision as our metrics. We get the best score but since our data is quite balanced, we are not sure that using precision as main metrics will be good enough. To overcome with this, we only care about the confusion matrix that each model produces and our main goal of doing prediction is to lower the FP number.\n",
        "\n",
        "We use ROC-AUC metrics to only see how good our models to distinguish between positive and negative classes. Based on this [source](https://github.com/goncaloggomes/cost-prediction/blob/master/ML_fullproject_bankmktcampaign.ipynb), with the academic scoring system as\n",
        "\n",
        "- 0.9 - 1 = excellent (A)\n",
        "- 0.8 - 0.9 = Good (B)\n",
        "- 0.7 - 0.8 = reasonable (C)\n",
        "- 0.6 - 0.7 = weak (D)\n",
        "- 0.5 - 0.6 = terrible (E)\n",
        "\n",
        "Overall, our models' ROC-AUC score are at reasonable level, meaning that our models can classify the positive classes and negative classes."
      ]
    },
    {
      "cell_type": "markdown",
      "metadata": {},
      "source": [
        "## Feature Importances\n",
        "\n",
        "In this section, we will get what features are most relevant to our deposit prediction."
      ]
    },
    {
      "cell_type": "code",
      "execution_count": 102,
      "metadata": {
        "id": "EVTEL2gWnTx2",
        "outputId": "c78a909b-3f07-466b-fe21-45d3af02be39"
      },
      "outputs": [
        {
          "data": {
            "text/plain": [
              "['loan_no',\n",
              " 'loan_yes',\n",
              " 'housing_no',\n",
              " 'housing_yes',\n",
              " 'contact_cellular',\n",
              " 'contact_telephone',\n",
              " 'poutcome_failure',\n",
              " 'poutcome_nonexistent',\n",
              " 'poutcome_success']"
            ]
          },
          "execution_count": 102,
          "metadata": {},
          "output_type": "execute_result"
        }
      ],
      "source": [
        "onehot = list(data_transformer.transformers_[0][1].get_feature_names_out())\n",
        "onehot"
      ]
    },
    {
      "cell_type": "code",
      "execution_count": 103,
      "metadata": {
        "id": "fpOz2R4WnTx2",
        "outputId": "fba978e1-145c-48ba-dff3-ca5b60e70a83"
      },
      "outputs": [
        {
          "data": {
            "text/plain": [
              "['job_0',\n",
              " 'job_1',\n",
              " 'job_2',\n",
              " 'job_3',\n",
              " 'month_0',\n",
              " 'month_1',\n",
              " 'month_2',\n",
              " 'month_3']"
            ]
          },
          "execution_count": 103,
          "metadata": {},
          "output_type": "execute_result"
        }
      ],
      "source": [
        "binary = data_transformer.transformers_[1][1].get_feature_names()\n",
        "binary"
      ]
    },
    {
      "cell_type": "code",
      "execution_count": 104,
      "metadata": {
        "id": "Uz-LOmNQnTx2",
        "outputId": "5c2a0239-d6cd-471a-c441-cc4b7c431355"
      },
      "outputs": [
        {
          "data": {
            "text/plain": [
              "['age', 'balance', 'pdays']"
            ]
          },
          "execution_count": 104,
          "metadata": {},
          "output_type": "execute_result"
        }
      ],
      "source": [
        "num_feat = list(X_train.iloc[:,data_transformer.transformers_[2][2]])\n",
        "num_feat"
      ]
    },
    {
      "cell_type": "code",
      "execution_count": 105,
      "metadata": {
        "id": "zLLzXsFDnTx2",
        "outputId": "679078df-6acd-4ba6-9dcd-a0b5406416f9"
      },
      "outputs": [
        {
          "data": {
            "text/plain": [
              "20"
            ]
          },
          "execution_count": 105,
          "metadata": {},
          "output_type": "execute_result"
        }
      ],
      "source": [
        "feature_name = onehot+binary+num_feat\n",
        "len(feature_name)"
      ]
    },
    {
      "cell_type": "code",
      "execution_count": 123,
      "metadata": {},
      "outputs": [
        {
          "data": {
            "text/plain": [
              "GradientBoostingClassifier(learning_rate=0.01, max_depth=11,\n",
              "                           min_samples_leaf=70, min_samples_split=200,\n",
              "                           n_estimators=400, random_state=42)"
            ]
          },
          "execution_count": 123,
          "metadata": {},
          "output_type": "execute_result"
        }
      ],
      "source": [
        "gradient_random[2]"
      ]
    },
    {
      "cell_type": "code",
      "execution_count": 124,
      "metadata": {
        "id": "qL2lIVIAnTx2",
        "outputId": "fc7a4ada-b050-46ea-e532-3aaef31bc02a"
      },
      "outputs": [
        {
          "data": {
            "text/plain": [
              "20"
            ]
          },
          "execution_count": 124,
          "metadata": {},
          "output_type": "execute_result"
        }
      ],
      "source": [
        "len(gradient_random[2].feature_importances_)"
      ]
    },
    {
      "cell_type": "code",
      "execution_count": 125,
      "metadata": {
        "id": "AZQCNEarnTx3",
        "outputId": "75d2bd58-3ffe-4864-b17b-1bdd24c74c60"
      },
      "outputs": [
        {
          "data": {
            "text/html": [
              "<div>\n",
              "<style scoped>\n",
              "    .dataframe tbody tr th:only-of-type {\n",
              "        vertical-align: middle;\n",
              "    }\n",
              "\n",
              "    .dataframe tbody tr th {\n",
              "        vertical-align: top;\n",
              "    }\n",
              "\n",
              "    .dataframe thead th {\n",
              "        text-align: right;\n",
              "    }\n",
              "</style>\n",
              "<table border=\"1\" class=\"dataframe\">\n",
              "  <thead>\n",
              "    <tr style=\"text-align: right;\">\n",
              "      <th></th>\n",
              "      <th>features</th>\n",
              "      <th>importance</th>\n",
              "    </tr>\n",
              "  </thead>\n",
              "  <tbody>\n",
              "    <tr>\n",
              "      <th>8</th>\n",
              "      <td>poutcome_success</td>\n",
              "      <td>0.269042</td>\n",
              "    </tr>\n",
              "    <tr>\n",
              "      <th>18</th>\n",
              "      <td>balance</td>\n",
              "      <td>0.146254</td>\n",
              "    </tr>\n",
              "    <tr>\n",
              "      <th>17</th>\n",
              "      <td>age</td>\n",
              "      <td>0.129502</td>\n",
              "    </tr>\n",
              "    <tr>\n",
              "      <th>19</th>\n",
              "      <td>pdays</td>\n",
              "      <td>0.086909</td>\n",
              "    </tr>\n",
              "    <tr>\n",
              "      <th>15</th>\n",
              "      <td>month_2</td>\n",
              "      <td>0.066760</td>\n",
              "    </tr>\n",
              "    <tr>\n",
              "      <th>16</th>\n",
              "      <td>month_3</td>\n",
              "      <td>0.059672</td>\n",
              "    </tr>\n",
              "    <tr>\n",
              "      <th>3</th>\n",
              "      <td>housing_yes</td>\n",
              "      <td>0.053502</td>\n",
              "    </tr>\n",
              "    <tr>\n",
              "      <th>2</th>\n",
              "      <td>housing_no</td>\n",
              "      <td>0.038541</td>\n",
              "    </tr>\n",
              "    <tr>\n",
              "      <th>13</th>\n",
              "      <td>month_0</td>\n",
              "      <td>0.037993</td>\n",
              "    </tr>\n",
              "    <tr>\n",
              "      <th>10</th>\n",
              "      <td>job_1</td>\n",
              "      <td>0.022913</td>\n",
              "    </tr>\n",
              "    <tr>\n",
              "      <th>12</th>\n",
              "      <td>job_3</td>\n",
              "      <td>0.021421</td>\n",
              "    </tr>\n",
              "    <tr>\n",
              "      <th>14</th>\n",
              "      <td>month_1</td>\n",
              "      <td>0.018298</td>\n",
              "    </tr>\n",
              "    <tr>\n",
              "      <th>0</th>\n",
              "      <td>loan_no</td>\n",
              "      <td>0.013787</td>\n",
              "    </tr>\n",
              "    <tr>\n",
              "      <th>1</th>\n",
              "      <td>loan_yes</td>\n",
              "      <td>0.011872</td>\n",
              "    </tr>\n",
              "    <tr>\n",
              "      <th>11</th>\n",
              "      <td>job_2</td>\n",
              "      <td>0.010683</td>\n",
              "    </tr>\n",
              "    <tr>\n",
              "      <th>5</th>\n",
              "      <td>contact_telephone</td>\n",
              "      <td>0.004401</td>\n",
              "    </tr>\n",
              "    <tr>\n",
              "      <th>4</th>\n",
              "      <td>contact_cellular</td>\n",
              "      <td>0.003872</td>\n",
              "    </tr>\n",
              "    <tr>\n",
              "      <th>9</th>\n",
              "      <td>job_0</td>\n",
              "      <td>0.003582</td>\n",
              "    </tr>\n",
              "    <tr>\n",
              "      <th>6</th>\n",
              "      <td>poutcome_failure</td>\n",
              "      <td>0.000800</td>\n",
              "    </tr>\n",
              "    <tr>\n",
              "      <th>7</th>\n",
              "      <td>poutcome_nonexistent</td>\n",
              "      <td>0.000194</td>\n",
              "    </tr>\n",
              "  </tbody>\n",
              "</table>\n",
              "</div>"
            ],
            "text/plain": [
              "                features  importance\n",
              "8       poutcome_success    0.269042\n",
              "18               balance    0.146254\n",
              "17                   age    0.129502\n",
              "19                 pdays    0.086909\n",
              "15               month_2    0.066760\n",
              "16               month_3    0.059672\n",
              "3            housing_yes    0.053502\n",
              "2             housing_no    0.038541\n",
              "13               month_0    0.037993\n",
              "10                 job_1    0.022913\n",
              "12                 job_3    0.021421\n",
              "14               month_1    0.018298\n",
              "0                loan_no    0.013787\n",
              "1               loan_yes    0.011872\n",
              "11                 job_2    0.010683\n",
              "5      contact_telephone    0.004401\n",
              "4       contact_cellular    0.003872\n",
              "9                  job_0    0.003582\n",
              "6       poutcome_failure    0.000800\n",
              "7   poutcome_nonexistent    0.000194"
            ]
          },
          "execution_count": 125,
          "metadata": {},
          "output_type": "execute_result"
        }
      ],
      "source": [
        "feature_imp = pd.DataFrame({\n",
        "    'features':feature_name,\n",
        "    'importance':gradient_random[2].feature_importances_\n",
        "})\n",
        "feature_imp.sort_values(by='importance',ascending=False)\n",
        "# feature importance"
      ]
    },
    {
      "cell_type": "code",
      "execution_count": 126,
      "metadata": {
        "id": "moWKaitPnTx3",
        "outputId": "3109f30a-18b1-43a7-e581-1c51f8828c45"
      },
      "outputs": [
        {
          "data": {
            "text/plain": [
              "''"
            ]
          },
          "execution_count": 126,
          "metadata": {},
          "output_type": "execute_result"
        },
        {
          "data": {
            "image/png": "[encoded data removed]",
            "text/plain": [
              "<Figure size 1440x720 with 1 Axes>"
            ]
          },
          "metadata": {
            "needs_background": "light"
          },
          "output_type": "display_data"
        }
      ],
      "source": [
        "plt.figure(figsize=(20,10))\n",
        "sns.barplot(data=feature_imp.sort_values(by='importance',ascending=False),y='features',x='importance')\n",
        "# plt.xticks(rotation=90)\n",
        "plt.xlabel('Feature Importance',fontsize=16)\n",
        "plt.ylabel('Feature',fontsize=16)\n",
        ";"
      ]
    },
    {
      "cell_type": "markdown",
      "metadata": {},
      "source": [
        "From the feature importance graph above, we can tell factors that give impact to the model is when `poutcome status`, `age`, and `balance`. At least, we already know that `balance` does has correlation with deposit eventough it is a weak correlation."
      ]
    },
    {
      "cell_type": "markdown",
      "metadata": {},
      "source": [
        "## Final conclusion\n",
        "\n",
        "**Marketing Cost Efficiency**\n",
        "\n",
        "Based on our modeling, we have compared Gradient boost and Ada Boost models. Our goal here is to reduce FP number since its consequence is costly to the bank. So, we compared the models also with the confusion matrix to obtain the FP and FN results based on the models. The results show that Gradient Boost is the best performance with this dataset because it has the lowest total marketing cost (276.62 EUR) and highest saving cost (764.97 EUR) from the baseline total cost 1401.7 EUR.\n",
        "\n",
        "**Recommendation**\n",
        "\n",
        "Things that should be prioritized by the bank:\n",
        "- Target the deposit product to wider prospective customers such as students and retired customers, since the marketing team doesn't contact them much. If we still approach management customers, the chance of not getting new subscribers is higher because from our dataset, the difference between no deposit vs deposit of management customers is relatively small.\n",
        "- Based on our data, the customers who don't have housing loan and with relatively high balance also will tend to subscribe to our deposit product.\n",
        "- The campaign might be better in February, April, September, October,and December since the in those month we can get many customers to subscribe the deposit product.\n",
        "- The customers that have high balance and the the poutcome is success will tend to subscribe the deposit\n",
        "- Having a questionnaire after contacting the customers is a good way to know our customers so that we can get better insights about our customers and better prediction."
      ]
    },
    {
      "cell_type": "markdown",
      "metadata": {},
      "source": [
        "## Save Model"
      ]
    },
    {
      "cell_type": "code",
      "execution_count": 332,
      "metadata": {},
      "outputs": [
        {
          "data": {
            "text/plain": [
              "Pipeline(steps=[('transform',\n",
              "                 ColumnTransformer(remainder='passthrough',\n",
              "                                   transformers=[('onehot', OneHotEncoder(),\n",
              "                                                  ['loan', 'housing', 'contact',\n",
              "                                                   'poutcome']),\n",
              "                                                 ('binary', BinaryEncoder(),\n",
              "                                                  ['job', 'month'])])),\n",
              "                ('scaler', StandardScaler()),\n",
              "                ('method',\n",
              "                 GradientBoostingClassifier(learning_rate=0.01, max_depth=11,\n",
              "                                            min_samples_leaf=70,\n",
              "                                            min_samples_split=200,\n",
              "                                            n_estimators=400))])"
            ]
          },
          "execution_count": 332,
          "metadata": {},
          "output_type": "execute_result"
        }
      ],
      "source": [
        "gradient_random"
      ]
    },
    {
      "cell_type": "code",
      "execution_count": 148,
      "metadata": {},
      "outputs": [],
      "source": [
        "import pickle"
      ]
    },
    {
      "cell_type": "code",
      "execution_count": 149,
      "metadata": {},
      "outputs": [],
      "source": [
        "filename = 'best_model_gb.sav'\n",
        "\n",
        "pickle.dump(gradient_random,open(filename,\"wb\"))"
      ]
    },
    {
      "cell_type": "code",
      "execution_count": 150,
      "metadata": {},
      "outputs": [],
      "source": [
        "# load model\n",
        "filename='best_model_gb.sav'\n",
        "\n",
        "# perintah untuk load model\n",
        "loaded_model = pickle.load(open(filename,\"rb\"))"
      ]
    },
    {
      "cell_type": "markdown",
      "metadata": {},
      "source": [
        "### Simulation to use the model"
      ]
    },
    {
      "cell_type": "code",
      "execution_count": 165,
      "metadata": {},
      "outputs": [
        {
          "data": {
            "text/html": [
              "<div>\n",
              "<style scoped>\n",
              "    .dataframe tbody tr th:only-of-type {\n",
              "        vertical-align: middle;\n",
              "    }\n",
              "\n",
              "    .dataframe tbody tr th {\n",
              "        vertical-align: top;\n",
              "    }\n",
              "\n",
              "    .dataframe thead th {\n",
              "        text-align: right;\n",
              "    }\n",
              "</style>\n",
              "<table border=\"1\" class=\"dataframe\">\n",
              "  <thead>\n",
              "    <tr style=\"text-align: right;\">\n",
              "      <th></th>\n",
              "      <th>age</th>\n",
              "      <th>job</th>\n",
              "      <th>balance</th>\n",
              "      <th>housing</th>\n",
              "      <th>loan</th>\n",
              "      <th>contact</th>\n",
              "      <th>month</th>\n",
              "      <th>pdays</th>\n",
              "      <th>poutcome</th>\n",
              "    </tr>\n",
              "  </thead>\n",
              "  <tbody>\n",
              "    <tr>\n",
              "      <th>0</th>\n",
              "      <td>40</td>\n",
              "      <td>management</td>\n",
              "      <td>2000</td>\n",
              "      <td>no</td>\n",
              "      <td>no</td>\n",
              "      <td>cellular</td>\n",
              "      <td>oct</td>\n",
              "      <td>100</td>\n",
              "      <td>success</td>\n",
              "    </tr>\n",
              "  </tbody>\n",
              "</table>\n",
              "</div>"
            ],
            "text/plain": [
              "   age         job  balance housing loan   contact month  pdays poutcome\n",
              "0   40  management     2000      no   no  cellular   oct    100  success"
            ]
          },
          "execution_count": 165,
          "metadata": {},
          "output_type": "execute_result"
        }
      ],
      "source": [
        "dummy3 = pd.DataFrame({\n",
        "    'age':[40],\n",
        "    'job':['management'],\n",
        "    'balance':[2000],\n",
        "    'housing':['no'],\n",
        "    'loan':['no'],\n",
        "    'contact':['cellular'],\n",
        "    'month':['oct'],\n",
        "    'pdays':[100],\n",
        "    'poutcome':['success']\n",
        "})\n",
        "dummy3"
      ]
    },
    {
      "cell_type": "code",
      "execution_count": 162,
      "metadata": {},
      "outputs": [
        {
          "name": "stdout",
          "output_type": "stream",
          "text": [
            "[1]\n",
            "[[0.24387736 0.75612264]]\n"
          ]
        }
      ],
      "source": [
        "print(loaded_model.predict(dummy3))\n",
        "print(loaded_model.predict_proba(dummy3))"
      ]
    },
    {
      "cell_type": "markdown",
      "metadata": {},
      "source": [
        "it shows that customer with criteria :\n",
        "- age: 40\n",
        "- job: management\n",
        "- balance : 2000\n",
        "- housing: no\n",
        "- loan: no\n",
        "- contact: cellular\n",
        "- month: oct\n",
        "- pdays: 100\n",
        "- poutcome: success\n",
        "\n",
        "will likely to subscribe to our deposit product with the probability around 75.6%"
      ]
    },
    {
      "cell_type": "markdown",
      "metadata": {},
      "source": [
        "## References\n",
        "- [1](https://www.kaggle.com/datasets/janiobachmann/bank-marketing-dataset) Bank Marketing Dataset\n",
        "- [2](https://github.com/goncaloggomes/cost-prediction/blob/master/ML_fullproject_bankmktcampaign.ipynb) Goncalo Gomes's Repository\n",
        "- [3](https://www.kdnuggets.com/2018/10/confusion-matrices-quantify-cost-being-wrong.html) KDNuggets article: Using Confusion Matrices to Quantify the Cost of Being Wrong\n",
        "- [4](https://towardsdatascience.com/scale-standardize-or-normalize-with-scikit-learn-6ccc7d176a02) Towards Data Science article : Scale, Standardize, or Normalize with Scikit-Learn\n",
        "- [5](https://en.wikipedia.org/wiki/Cross-validation_(statistics)#:~:text=Cross%2Dvalidation%20is%20a%20resampling,model%20will%20perform%20in%20practice.) Wikipedia: Cross Validation\n",
        "- [6](https://en.wikipedia.org/wiki/Random_forest) Wikipedia: Random Forest\n",
        "- [7](https://www.analyticsvidhya.com/blog/2021/09/adaboost-algorithm-a-complete-guide-for-beginners/) Analytics Vidhya article : AdaBoost Algorithm – A Complete Guide for Beginners\n",
        "- [8](https://www.analyticsvidhya.com/blog/2016/02/complete-guide-parameter-tuning-gradient-boosting-gbm-python/) Analytics Vidhta article: Complete Machine Learning Gudie to Parameter Tuning in Gradient Boosting (GBM) in Python"
      ]
    },
    {
      "cell_type": "code",
      "execution_count": null,
      "metadata": {},
      "outputs": [],
      "source": []
    }
  ],
  "metadata": {
    "colab": {
      "name": "bank_marketing (1).ipynb",
      "provenance": []
    },
    "kernelspec": {
      "display_name": "Python 3.9.7 ('base')",
      "language": "python",
      "name": "python3"
    },
    "language_info": {
      "codemirror_mode": {
        "name": "ipython",
        "version": 3
      },
      "file_extension": ".py",
      "mimetype": "text/x-python",
      "name": "python",
      "nbconvert_exporter": "python",
      "pygments_lexer": "ipython3",
      "version": "3.9.7"
    },
    "orig_nbformat": 4,
    "vscode": {
      "interpreter": {
        "hash": "ea183bb76f01b1c0f19d4faefaf72022d209702e86a95c61a348be375d9bcd4f"
      }
    }
  },
  "nbformat": 4,
  "nbformat_minor": 0
}
